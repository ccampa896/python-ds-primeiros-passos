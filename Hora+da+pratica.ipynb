{
  "nbformat": 4,
  "nbformat_minor": 0,
  "metadata": {
    "colab": {
      "provenance": [],
      "toc_visible": true
    },
    "kernelspec": {
      "name": "python3",
      "display_name": "Python 3"
    },
    "language_info": {
      "name": "python"
    }
  },
  "cells": [
    {
      "cell_type": "markdown",
      "source": [
        "# Sobre o notebook\n",
        "\n",
        "A \"hora da prática\" é uma atividade do curso de Python para Data Science da Alura que contém diversos desafios envolvendo os aprendizados de cada aula.\n",
        "\n",
        "O notebook \"hora da pratica\" é um notebook construído com espaço para as células dos desafios propostos no curso, com ele você tem espaço para construir e executar suas soluções"
      ],
      "metadata": {
        "id": "_kwAaQ36gLQ1"
      }
    },
    {
      "cell_type": "markdown",
      "source": [
        "## Aula 1 - Introdução ao Python"
      ],
      "metadata": {
        "id": "Mc-KN0dA0Z83"
      }
    },
    {
      "cell_type": "markdown",
      "source": [
        "### Questão 1\n",
        "\n",
        "Imprima a frase `Escola de Dados da Alura!`"
      ],
      "metadata": {
        "id": "l5eLWf0W0ikn"
      }
    },
    {
      "cell_type": "code",
      "source": [
        "print('Escola de Dados da Alura!')"
      ],
      "metadata": {
        "id": "5pllxJ0h0-yA",
        "colab": {
          "base_uri": "https://localhost:8080/"
        },
        "outputId": "ddd0b487-162a-4ed7-cd00-7cc2dcc199ae"
      },
      "execution_count": null,
      "outputs": [
        {
          "output_type": "stream",
          "name": "stdout",
          "text": [
            "Escola de Dados da Alura!\n"
          ]
        }
      ]
    },
    {
      "cell_type": "markdown",
      "source": [
        "### Questão 2\n",
        "Imprima na tela seu nome e seu sobrenome seguindo a estrutura abaixo:\n",
        "```\n",
        "Nome: [seu nome]\n",
        "Sobrenome: [seu sobrenome]\n",
        "```\n"
      ],
      "metadata": {
        "id": "tQdX90Ue03c7"
      }
    },
    {
      "cell_type": "code",
      "source": [
        "print('Nome: Carlos Felipe')\n",
        "print('Sobrenome: Campanari')"
      ],
      "metadata": {
        "id": "RVw5iKn20_Ps",
        "colab": {
          "base_uri": "https://localhost:8080/"
        },
        "outputId": "6920516b-1cfb-4955-ed46-403fdc05e8ef"
      },
      "execution_count": null,
      "outputs": [
        {
          "output_type": "stream",
          "name": "stdout",
          "text": [
            "Nome: Carlos Felipe\n",
            "Sobrenome: Campanari\n"
          ]
        }
      ]
    },
    {
      "cell_type": "markdown",
      "source": [
        "### Questão 3\n",
        "Imprima o seu primeiro nome letra a letra. Por exemplo, nome é Mirla, então eu obtenho a seguinte saída:\n",
        "```\n",
        "M\n",
        "I\n",
        "R\n",
        "L\n",
        "A\n",
        "```\n"
      ],
      "metadata": {
        "id": "gfg-aiip03vC"
      }
    },
    {
      "cell_type": "code",
      "source": [
        "nome = 'CARLOS'\n",
        "\n",
        "for i in nome:\n",
        "  print(i)"
      ],
      "metadata": {
        "id": "v5bkrgf60_qx",
        "colab": {
          "base_uri": "https://localhost:8080/"
        },
        "outputId": "b42293cd-a9fb-4a68-e4dd-442ca795ad44"
      },
      "execution_count": null,
      "outputs": [
        {
          "output_type": "stream",
          "name": "stdout",
          "text": [
            "C\n",
            "A\n",
            "R\n",
            "L\n",
            "O\n",
            "S\n"
          ]
        }
      ]
    },
    {
      "cell_type": "markdown",
      "source": [
        "### Questão 4\n",
        "Imprima o dia do seu nascimento em formato `dia mês ano`. Os valores de dia e ano não podem estar entre aspas. O formato deve estar como no exemplo, supondo uma data de aniversário dia 28 de fevereiro de 2003:\n",
        "```\n",
        "28 fevereiro 2003\n",
        "```"
      ],
      "metadata": {
        "id": "oadrJbl704MM"
      }
    },
    {
      "cell_type": "code",
      "source": [
        "dia = 26\n",
        "mes = 'fevereiro'\n",
        "ano = 1988\n",
        "print(dia, mes, ano)"
      ],
      "metadata": {
        "id": "cx0KSsrq1ALD",
        "colab": {
          "base_uri": "https://localhost:8080/"
        },
        "outputId": "3cc6e29b-e7e7-43fd-fc4f-2fc3a3d08b81"
      },
      "execution_count": null,
      "outputs": [
        {
          "output_type": "stream",
          "name": "stdout",
          "text": [
            "26 fevereiro 1988\n"
          ]
        }
      ]
    },
    {
      "cell_type": "markdown",
      "source": [
        "### Questão 5\n",
        "Imprima em um único print o atual ano que você está fazendo esse curso, o valor do ano deve ser um dado numérico. A saída do print deve ser a seguinte:\n",
        "```\n",
        "Ano atual: [ano]\n",
        "```\n"
      ],
      "metadata": {
        "id": "3RgyMaan04TD"
      }
    },
    {
      "cell_type": "code",
      "execution_count": null,
      "metadata": {
        "id": "UN77EfQ2d36Y",
        "colab": {
          "base_uri": "https://localhost:8080/"
        },
        "outputId": "89167288-cfe0-4532-e342-ce4f79592947"
      },
      "outputs": [
        {
          "output_type": "stream",
          "name": "stdout",
          "text": [
            "Ano atual: 2023.\n"
          ]
        }
      ],
      "source": [
        "ano = 2023\n",
        "print(f'Ano atual: {ano}.')"
      ]
    },
    {
      "cell_type": "markdown",
      "source": [
        "## Aula 2 - Manipulando dados no Python"
      ],
      "metadata": {
        "id": "D9e3FqhO1S3X"
      }
    },
    {
      "cell_type": "markdown",
      "source": [
        "### Coleta e amostragem de dados"
      ],
      "metadata": {
        "id": "n6o7C1Ze2cRe"
      }
    },
    {
      "cell_type": "markdown",
      "source": [
        "#### Questão 1\n",
        "Crie um programa que solicite à pessoa usuária digitar seu nome, e imprima “Olá, [nome]!”."
      ],
      "metadata": {
        "id": "sRneWag9PV5Q"
      }
    },
    {
      "cell_type": "code",
      "source": [
        "nome = input('Digite o seu nome: ')\n",
        "print('Olá, %s.' % nome)"
      ],
      "metadata": {
        "id": "dbX1fKqy2HnE",
        "colab": {
          "base_uri": "https://localhost:8080/"
        },
        "outputId": "fa9ca5f6-cd6a-44a1-85d2-e05cd7daebef"
      },
      "execution_count": null,
      "outputs": [
        {
          "output_type": "stream",
          "name": "stdout",
          "text": [
            "Digite o seu nome: Carlos\n",
            "Olá, Carlos.\n"
          ]
        }
      ]
    },
    {
      "cell_type": "markdown",
      "source": [
        "#### Questão 2\n",
        "Crie um programa que solicite à pessoa usuária digitar seu nome e idade, e imprima “Olá, [nome], você tem [idade] anos.”."
      ],
      "metadata": {
        "id": "BJ1SznEp70d5"
      }
    },
    {
      "cell_type": "code",
      "source": [
        "nome, idade = input('Digite seu nome e idade: ').split()\n",
        "print('Olá, %s, você tem %s anos.' % (nome, idade))"
      ],
      "metadata": {
        "id": "jKz-0Sq8PFkp",
        "colab": {
          "base_uri": "https://localhost:8080/"
        },
        "outputId": "f2a7dfd8-7a60-460e-9beb-805367b5218b"
      },
      "execution_count": null,
      "outputs": [
        {
          "output_type": "stream",
          "name": "stdout",
          "text": [
            "Digite seu nome e idade: Carlos 35\n",
            "Olá, Carlos, você tem 35 anos.\n"
          ]
        }
      ]
    },
    {
      "cell_type": "markdown",
      "source": [
        "#### Questão 3\n",
        "Crie um programa que solicite à pessoa usuária digitar seu nome, idade e altura em metros, e imprima “Olá, [nome], você tem [idade] anos e mede [altura] metros!”."
      ],
      "metadata": {
        "id": "2T0jNYZt70aa"
      }
    },
    {
      "cell_type": "code",
      "source": [
        "nome = input('Digite seu nome: ')\n",
        "idade, altura = map(float, input('Digite sua idade e sua altura separados por espaço: ').split())\n",
        "print('Olá, {}, você tem {} anos e mede {} metros!'.format(nome, int(idade), altura))\n"
      ],
      "metadata": {
        "id": "pI4kHNzTPIXh",
        "colab": {
          "base_uri": "https://localhost:8080/"
        },
        "outputId": "66698465-c225-426c-87fe-095c765861c1"
      },
      "execution_count": null,
      "outputs": [
        {
          "output_type": "stream",
          "name": "stdout",
          "text": [
            "Digite seu nome: Carlos\n",
            "Digite sua idade e sua altura separados por espaço: 35 1.83\n",
            "Olá, Carlos, você tem 35 anos e mede 1.83 metros!\n"
          ]
        }
      ]
    },
    {
      "cell_type": "markdown",
      "source": [
        "### Calculadora com operadores"
      ],
      "metadata": {
        "id": "mEBFwKkC70KP"
      }
    },
    {
      "cell_type": "markdown",
      "source": [
        "#### Questão 1\n",
        "\n",
        "Crie um programa que solicite dois valores numéricos à pessoa usuária e imprima a soma dos dois valores."
      ],
      "metadata": {
        "id": "H-IV1oAPPSqK"
      }
    },
    {
      "cell_type": "code",
      "source": [
        "num_1 = float(input('Digite um número: '))\n",
        "num_2 = float(input('Digite outro número: '))\n",
        "result = num_1 + num_2\n",
        "print(f'O resultado da soma dos números {num_1} e {num_2} é {result}.')"
      ],
      "metadata": {
        "id": "Zb0W84sy8rnp",
        "colab": {
          "base_uri": "https://localhost:8080/"
        },
        "outputId": "002496ec-c227-4423-c74f-54bde57a54e3"
      },
      "execution_count": null,
      "outputs": [
        {
          "output_type": "stream",
          "name": "stdout",
          "text": [
            "Digite um número: 2.5\n",
            "Digite outro número: 3.5\n",
            "O resultado da soma dos números 2.5 e 3.5 é 6.0.\n"
          ]
        }
      ]
    },
    {
      "cell_type": "markdown",
      "source": [
        "#### Questão 2\n",
        "Crie um programa que solicite três valores numéricos à pessoa usuária e imprima a soma dos três valores."
      ],
      "metadata": {
        "id": "LUoi2MOu70Em"
      }
    },
    {
      "cell_type": "code",
      "source": [
        "numbers = []\n",
        "\n",
        "for i in range(3):\n",
        "  numbers.append(float(input(f'Digite o número {i+1}: ')))\n",
        "\n",
        "result = sum(numbers)\n",
        "\n",
        "print(f'A soma dos números {numbers} é {result}.')"
      ],
      "metadata": {
        "id": "4FYjWyBS8rDm",
        "colab": {
          "base_uri": "https://localhost:8080/"
        },
        "outputId": "27441213-a803-4fac-d943-ed0ef713fcd9"
      },
      "execution_count": null,
      "outputs": [
        {
          "output_type": "stream",
          "name": "stdout",
          "text": [
            "Digite o número 1: 5.72\n",
            "Digite o número 2: 9.2\n",
            "Digite o número 3: 2.225\n",
            "A soma dos números [5.72, 9.2, 2.225] é 17.145.\n"
          ]
        }
      ]
    },
    {
      "cell_type": "markdown",
      "source": [
        "#### Questão 3\n",
        "Crie um programa que solicite dois valores numéricos à pessoa usuária e imprima a subtração do primeiro pelo o segundo valor."
      ],
      "metadata": {
        "id": "lezGctF07z8i"
      }
    },
    {
      "cell_type": "code",
      "source": [
        "number_1 = float(input('Digite o primeiro número: '))\n",
        "number_2 = float(input('Digite o segundo número: '))\n",
        "result = number_1 - number_2\n",
        "print('SUBTRAÇÃO')\n",
        "print('O resultado da subtração de %.2f - %.2f é %.2f.' % (number_1, number_2, result))"
      ],
      "metadata": {
        "id": "k0GE1z4w8p3J",
        "colab": {
          "base_uri": "https://localhost:8080/"
        },
        "outputId": "75acbe0c-0f39-4847-dcfb-e6cc4a9bfa13"
      },
      "execution_count": null,
      "outputs": [
        {
          "output_type": "stream",
          "name": "stdout",
          "text": [
            "Digite o primeiro número: 8.8\n",
            "Digite o segundo número: 5.2\n",
            "SUBTRAÇÃO\n",
            "O resultado da subtração de 8.80 - 5.20 é 3.60.\n"
          ]
        }
      ]
    },
    {
      "cell_type": "markdown",
      "source": [
        "#### Questão 4\n",
        "\n",
        "Crie um programa que solicite dois valores numéricos à pessoa usuária e imprima a multiplicação dos dois valores.\n"
      ],
      "metadata": {
        "id": "wwMP-dPU7zxW"
      }
    },
    {
      "cell_type": "code",
      "source": [
        "number_1 = float(input('Digite o primeiro número: '))\n",
        "number_2 = float(input('Digite o segundo número: '))\n",
        "result = number_1 * number_2\n",
        "print('MULTIPLICAÇÃO')\n",
        "print('O resultado da multiplicação de %.2f * %.2f é %.2f.' % (number_1, number_2, result))"
      ],
      "metadata": {
        "id": "GzFCVHfp8peZ",
        "colab": {
          "base_uri": "https://localhost:8080/"
        },
        "outputId": "632452b3-f7f1-4043-8fb1-078809c11931"
      },
      "execution_count": null,
      "outputs": [
        {
          "output_type": "stream",
          "name": "stdout",
          "text": [
            "Digite o primeiro número: 3.3\n",
            "Digite o segundo número: 5\n",
            "MULTIPLICAÇÃO\n",
            "O resultado da subtração de 3.30 * 5.00 é 16.50.\n"
          ]
        }
      ]
    },
    {
      "cell_type": "markdown",
      "source": [
        "#### Questão 5\n",
        "\n",
        "Crie um programa que solicite dois valores numéricos, um numerador e um denominador, e realize a divisão entre os dois valores. Deixe claro que o valor do denominador não pode ser `0`.\n"
      ],
      "metadata": {
        "id": "9kxyHxUo7zRD"
      }
    },
    {
      "cell_type": "code",
      "source": [
        "number_1 = float(input('Digite o primeiro número: '))\n",
        "number_2 = 0\n",
        "while number_2 == 0:\n",
        "  number_2 = float(input('Digite o segundo número, DIFERENTE de 0: '))\n",
        "result = number_1 / number_2\n",
        "print('DIVISÃO')\n",
        "print('O resultado da divisão de %.2f / %.2f é %.2f.' % (number_1, number_2, result))"
      ],
      "metadata": {
        "id": "ytJ8l5KH8ozc",
        "colab": {
          "base_uri": "https://localhost:8080/"
        },
        "outputId": "154ec31c-166c-4c30-838a-cedbeae824c0"
      },
      "execution_count": null,
      "outputs": [
        {
          "output_type": "stream",
          "name": "stdout",
          "text": [
            "Digite o primeiro número: 9.3\n",
            "Digite o segundo número, DIFERENTE de 0: 0\n",
            "Digite o segundo número, DIFERENTE de 0: 2.22\n",
            "DIVISÃO\n",
            "O resultado da divisão de 9.30 / 2.22 é 4.19.\n"
          ]
        }
      ]
    },
    {
      "cell_type": "markdown",
      "source": [
        "#### Questão 6\n",
        "\n",
        "Crie um programa que solicite dois valores numéricos, um operador e uma potência, e realize a exponenciação entre esses dois valores.\n"
      ],
      "metadata": {
        "id": "zkUSBTQq8Hxt"
      }
    },
    {
      "cell_type": "code",
      "source": [
        "number_1 = int(input('Digite um número inteiro para servir de base: '))\n",
        "number_2 = int(input('Digite um número inteiro para servir de expoente: '))\n",
        "result = number_1 ** number_2\n",
        "print('POTÊNCIA')\n",
        "print(f'O resultado da exponenciação do número {number_1} de base e do número {number_2} de expoente é {result}.')"
      ],
      "metadata": {
        "id": "RPj36jq08oZp",
        "colab": {
          "base_uri": "https://localhost:8080/"
        },
        "outputId": "ceb96060-a258-4e95-b075-24d0d94a2ac2"
      },
      "execution_count": null,
      "outputs": [
        {
          "output_type": "stream",
          "name": "stdout",
          "text": [
            "Digite um número inteiro para servir de base: 5\n",
            "Digite um número inteiro para servir de expoente: 5\n",
            "POTÊNCIA\n",
            "O resultado da exponenciação do número 5 de base e do número 5 de expoente é 3125.\n"
          ]
        }
      ]
    },
    {
      "cell_type": "markdown",
      "source": [
        "#### Questão 7\n",
        "Crie um programa que solicite dois valores numéricos, um numerador e um denominador e realize a divisão inteira entre os dois valores. Deixe claro que o valor do denominador não pode ser `0`."
      ],
      "metadata": {
        "id": "yiunIusZ8Huj"
      }
    },
    {
      "cell_type": "code",
      "source": [
        "number_1 = float(input('Digite o primeiro número: '))\n",
        "number_2 = 0\n",
        "while number_2 == 0:\n",
        "  number_2 = float(input('Digite o segundo número, DIFERENTE de 0: '))\n",
        "result = number_1 // number_2\n",
        "print('DIVISÃO')\n",
        "print('O resultado da divisão inteira de %.2f / %.2f é %.2f.' % (number_1, number_2, result))"
      ],
      "metadata": {
        "id": "UHK8xITf8oCg",
        "colab": {
          "base_uri": "https://localhost:8080/"
        },
        "outputId": "87bf2b55-5223-448e-f13d-d7fddb58dda2"
      },
      "execution_count": null,
      "outputs": [
        {
          "output_type": "stream",
          "name": "stdout",
          "text": [
            "Digite o primeiro número: 12\n",
            "Digite o segundo número, DIFERENTE de 0: 7\n",
            "DIVISÃO\n",
            "O resultado da divisão inteira de 12.00 / 7.00 é 1.00.\n"
          ]
        }
      ]
    },
    {
      "cell_type": "markdown",
      "source": [
        "#### Questão 8\n",
        "\n",
        "Crie um programa que solicite dois valores numéricos, um numerador e um denominador, e retorne o resto da divisão entre os dois valores. Deixe claro que o valor do denominador não pode ser `0`."
      ],
      "metadata": {
        "id": "z_D_JiLX8Hra"
      }
    },
    {
      "cell_type": "code",
      "source": [
        "number_1 = float(input('Digite o primeiro número: '))\n",
        "number_2 = 0\n",
        "while number_2 == 0:\n",
        "  number_2 = float(input('Digite o segundo número, DIFERENTE de 0: '))\n",
        "result = number_1 % number_2\n",
        "print('DIVISÃO')\n",
        "print('O resultado do resto da divisão de %.2f / %.2f é %.2f.' % (number_1, number_2, result))"
      ],
      "metadata": {
        "id": "EWGJeukO8nqx",
        "colab": {
          "base_uri": "https://localhost:8080/"
        },
        "outputId": "faeb24d9-977c-4cf4-d797-d6b493b9e646"
      },
      "execution_count": null,
      "outputs": [
        {
          "output_type": "stream",
          "name": "stdout",
          "text": [
            "Digite o primeiro número: 15\n",
            "Digite o segundo número, DIFERENTE de 0: 6\n",
            "DIVISÃO\n",
            "O resultado do resto da divisão de 15.00 / 6.00 é 3.00.\n"
          ]
        }
      ]
    },
    {
      "cell_type": "markdown",
      "source": [
        "#### Questão 9\n",
        "\n",
        "Crie um código que solicita 3 notas de um estudante e imprima a média das notas."
      ],
      "metadata": {
        "id": "RDRajNkU8N8N"
      }
    },
    {
      "cell_type": "code",
      "source": [
        "import statistics as st\n",
        "\n",
        "notas = []\n",
        "\n",
        "for i in range(3):\n",
        "  notas.append(float(input(f'Digite a nota {i+1}: ')))\n",
        "\n",
        "average = round(st.mean(notas), 2)\n",
        "\n",
        "print(f'A média das notas {notas} é {average}.')"
      ],
      "metadata": {
        "id": "H6F4Ojzt8nSR",
        "colab": {
          "base_uri": "https://localhost:8080/"
        },
        "outputId": "5c9378b2-ebb7-41a6-f278-b5aaf8755acf"
      },
      "execution_count": null,
      "outputs": [
        {
          "output_type": "stream",
          "name": "stdout",
          "text": [
            "Digite a nota 1: 8.7\n",
            "Digite a nota 2: 6.9\n",
            "Digite a nota 3: 9.56\n",
            "A média das notas [8.7, 6.9, 9.56] é 8.39.\n"
          ]
        }
      ]
    },
    {
      "cell_type": "markdown",
      "source": [
        "#### Questão 10\n",
        "\n",
        "Crie um código que calcule e imprima a média ponderada dos números 5, 12, 20 e 15 com pesos respectivamente iguais a 1, 2, 3 e 4."
      ],
      "metadata": {
        "id": "d7fjkne58N21"
      }
    },
    {
      "cell_type": "code",
      "source": [
        "import numpy as np\n",
        "\n",
        "numbers = np.array([5, 12, 20, 15])\n",
        "weights = np.array([1, 2, 3, 4])\n",
        "\n",
        "weigthed_average = np.average(numbers, weights=weights)\n",
        "\n",
        "print(f'A média ponderada é {weigthed_average}.')"
      ],
      "metadata": {
        "id": "fwjoHlV48mkv",
        "colab": {
          "base_uri": "https://localhost:8080/"
        },
        "outputId": "bd161108-9cb9-4f56-b13b-864ebbf2f5a5"
      },
      "execution_count": null,
      "outputs": [
        {
          "output_type": "stream",
          "name": "stdout",
          "text": [
            "A média ponderada é 14.9.\n"
          ]
        }
      ]
    },
    {
      "cell_type": "markdown",
      "source": [
        "### Editando textos"
      ],
      "metadata": {
        "id": "GNmbX1OU8N0V"
      }
    },
    {
      "cell_type": "markdown",
      "source": [
        "#### Questão 1\n",
        "\n",
        "Crie uma variável chamada “`frase`” e atribua a ela uma string de sua escolha. Em seguida, imprima a frase na tela."
      ],
      "metadata": {
        "id": "6wZ85mCsRCV0"
      }
    },
    {
      "cell_type": "code",
      "source": [
        "frase = \"Curso de Python para Data Science da Alura!\"\n",
        "print(frase)"
      ],
      "metadata": {
        "id": "eRqr_gh-8mFy",
        "colab": {
          "base_uri": "https://localhost:8080/"
        },
        "outputId": "ee0360ac-60eb-4923-ae70-3e712f8fb520"
      },
      "execution_count": null,
      "outputs": [
        {
          "output_type": "stream",
          "name": "stdout",
          "text": [
            "Curso de Python para Data Science da Alura!\n"
          ]
        }
      ]
    },
    {
      "cell_type": "markdown",
      "source": [
        "#### Questão 2\n",
        "Crie um código que solicite uma frase e depois imprima a frase na tela."
      ],
      "metadata": {
        "id": "Aac17z-18Nwv"
      }
    },
    {
      "cell_type": "code",
      "source": [
        "frase = input('Digite uma frase para ser impressa na tela: ')\n",
        "print(frase)"
      ],
      "metadata": {
        "id": "8zfE2hh98lb0",
        "colab": {
          "base_uri": "https://localhost:8080/"
        },
        "outputId": "3b1e93fb-d598-4d3f-91ef-76d0e418bdf8"
      },
      "execution_count": null,
      "outputs": [
        {
          "output_type": "stream",
          "name": "stdout",
          "text": [
            "Digite uma frase para ser impressa na tela: Python!\n",
            "Python!\n"
          ]
        }
      ]
    },
    {
      "cell_type": "markdown",
      "source": [
        "#### Questão 3\n",
        "\n",
        "Crie um código que solicite uma frase à pessoa usuária e imprima a mesma frase digitada mas com todas as letras maiúsculas."
      ],
      "metadata": {
        "id": "DXVzqpN58Ntr"
      }
    },
    {
      "cell_type": "code",
      "source": [
        "frase = input('Digite uma frase que será manipulada: ')\n",
        "print(frase.upper())"
      ],
      "metadata": {
        "id": "d0VzoYP68k-I",
        "colab": {
          "base_uri": "https://localhost:8080/"
        },
        "outputId": "acc6f6d9-2e5a-4c30-98a3-d784fc4f33ae"
      },
      "execution_count": null,
      "outputs": [
        {
          "output_type": "stream",
          "name": "stdout",
          "text": [
            "Digite uma frase que será manipulada: Data Science\n",
            "DATA SCIENCE\n"
          ]
        }
      ]
    },
    {
      "cell_type": "markdown",
      "source": [
        "#### Questão 4\n",
        "\n",
        "Crie um código que solicite uma frase à pessoa usuária e imprima a mesma frase digitada mas com todas as letras minúsculas."
      ],
      "metadata": {
        "id": "I12VeNPK8Nqb"
      }
    },
    {
      "cell_type": "code",
      "source": [
        "frase = input('Digite uma frase que será manipulada: ')\n",
        "print(frase.lower())"
      ],
      "metadata": {
        "id": "KD8rNy2K8kox",
        "colab": {
          "base_uri": "https://localhost:8080/"
        },
        "outputId": "03204887-b81c-412c-8aa1-5286be614316"
      },
      "execution_count": null,
      "outputs": [
        {
          "output_type": "stream",
          "name": "stdout",
          "text": [
            "Digite uma frase que será manipulada: PYTHON RULES\n",
            "python rules\n"
          ]
        }
      ]
    },
    {
      "cell_type": "markdown",
      "source": [
        "#### Questão 5\n",
        "\n",
        "Crie uma variável chamada “`frase`” e atribua a ela uma string de sua escolha. Em seguida, imprima a frase sem espaços em branco no início e no fim."
      ],
      "metadata": {
        "id": "cRqngSE48Nog"
      }
    },
    {
      "cell_type": "code",
      "source": [
        "frase = '                       Olha, temos muitos espaços!                               '\n",
        "print(frase.strip())"
      ],
      "metadata": {
        "id": "aSCpdF-o8kBs",
        "colab": {
          "base_uri": "https://localhost:8080/"
        },
        "outputId": "639ab57a-9576-4042-e344-b25ec6424c09"
      },
      "execution_count": null,
      "outputs": [
        {
          "output_type": "stream",
          "name": "stdout",
          "text": [
            "Olha, temos muitos espaços!\n"
          ]
        }
      ]
    },
    {
      "cell_type": "markdown",
      "source": [
        "#### Questão 6\n",
        "\n",
        "Crie um código que solicite uma frase à pessoa usuária e imprima a mesma frase sem espaços em branco no início e no fim."
      ],
      "metadata": {
        "id": "murIazpQ8Nkv"
      }
    },
    {
      "cell_type": "code",
      "source": [
        "frase = input('Digite uma frase com espaços em branco no começo e no final e veja a mágica acontecer:')\n",
        "print(frase.strip())"
      ],
      "metadata": {
        "id": "tHunjwuG8jNq",
        "colab": {
          "base_uri": "https://localhost:8080/"
        },
        "outputId": "9560b280-0dd7-4a47-d318-64836f3a82cc"
      },
      "execution_count": null,
      "outputs": [
        {
          "output_type": "stream",
          "name": "stdout",
          "text": [
            "Digite uma frase com espaços em branco no começo e no final e veja a mágica acontecer:                      Aula muito top!                           \n",
            "Aula muito top!\n"
          ]
        }
      ]
    },
    {
      "cell_type": "markdown",
      "source": [
        "#### Questão 7\n",
        "\n",
        "\n",
        "Crie um código que solicite uma frase à pessoa usuária e imprima a mesma frase sem espaços em branco no início e no fim e em letras minúsculas."
      ],
      "metadata": {
        "id": "eRxc2OeX8Nh2"
      }
    },
    {
      "cell_type": "code",
      "source": [
        "frase = input('Digite uma frase e veja a manipulação: sem espaços e todas letras minúsculas!')\n",
        "print(frase.strip().lower())"
      ],
      "metadata": {
        "id": "DYm0_UwS8ih6",
        "colab": {
          "base_uri": "https://localhost:8080/"
        },
        "outputId": "6df9cd3c-9557-42f0-a359-1dd9d8b5bb42"
      },
      "execution_count": null,
      "outputs": [
        {
          "output_type": "stream",
          "name": "stdout",
          "text": [
            "Digite uma frase e veja a manipulação: sem espaços e todas letras minúsculas!                   PYTHON DS NA ALURA                                                   \n",
            "python ds na alura\n"
          ]
        }
      ]
    },
    {
      "cell_type": "markdown",
      "source": [
        "#### Questão 8\n",
        "\n",
        "Crie um código que solicite uma frase à pessoa usuária e imprima a mesma frase com todas as vogais “`e`” trocadas pela letra “`f`”."
      ],
      "metadata": {
        "id": "UKATLavs8NfI"
      }
    },
    {
      "cell_type": "code",
      "source": [
        "frase = input('Escreva uma frase com muitas letras \"e\", por favor.')\n",
        "print(frase.replace('e', 'f'))"
      ],
      "metadata": {
        "id": "k64C5G5S8iLO",
        "colab": {
          "base_uri": "https://localhost:8080/"
        },
        "outputId": "73e58bf0-2ebe-4a29-b9a9-9695ccaa3293"
      },
      "execution_count": null,
      "outputs": [
        {
          "output_type": "stream",
          "name": "stdout",
          "text": [
            "Escreva uma frase com muitas letras \"e\", por favor.Eu entrei em elevada estima entre eles.\n",
            "Eu fntrfi fm flfvada fstima fntrf flfs.\n"
          ]
        }
      ]
    },
    {
      "cell_type": "markdown",
      "source": [
        "#### Questão 9\n",
        "\n",
        "\n",
        "Crie um código que solicite uma frase à pessoa usuária e imprima a mesma frase com todas as vogais “`a`” trocadas pela caractere  “`@`”."
      ],
      "metadata": {
        "id": "n_1SPchw8NdG"
      }
    },
    {
      "cell_type": "code",
      "source": [
        "frase = input('Digite uma frase com várias letras \"a\"!!')\n",
        "print(frase.replace('a', '@'))"
      ],
      "metadata": {
        "id": "msaDNm_p8h0D",
        "colab": {
          "base_uri": "https://localhost:8080/"
        },
        "outputId": "6365295e-0536-45ae-bd9a-5b2565b4e5cc"
      },
      "execution_count": null,
      "outputs": [
        {
          "output_type": "stream",
          "name": "stdout",
          "text": [
            "Digite uma frase com várias letras \"a\"!!Amigo assim anos atras!\n",
            "Amigo @ssim @nos @tr@s!\n"
          ]
        }
      ]
    },
    {
      "cell_type": "markdown",
      "source": [
        "#### Questão 10\n",
        "\n",
        "\n",
        "Crie um código que solicite uma frase à pessoa usuária e imprima a mesma frase com todas as consoantes “`s`” trocadas pelo caractere  “`$`”."
      ],
      "metadata": {
        "id": "H3sTTjqI8Naa"
      }
    },
    {
      "cell_type": "code",
      "source": [
        "frase = input('Digite uma frase com muitos \"s\"!!')\n",
        "print(frase.replace('s', '$'))"
      ],
      "metadata": {
        "id": "RPBIsWT68e-1",
        "colab": {
          "base_uri": "https://localhost:8080/"
        },
        "outputId": "e586411a-b8db-484c-d19e-2dabe7fbc3cd"
      },
      "execution_count": null,
      "outputs": [
        {
          "output_type": "stream",
          "name": "stdout",
          "text": [
            "Digite uma frase com muitos \"s\"!!Sempre serei seu\n",
            "Sempre $erei $eu\n"
          ]
        }
      ]
    },
    {
      "cell_type": "markdown",
      "source": [
        "## Aula 3 - Estruturas condicionais"
      ],
      "metadata": {
        "id": "XGePe4GD2I59"
      }
    },
    {
      "cell_type": "markdown",
      "source": [
        "### Aquecendo na programação"
      ],
      "metadata": {
        "id": "Pr9HTW0UHCdD"
      }
    },
    {
      "cell_type": "markdown",
      "source": [
        "#### Questão 1\n",
        "Escreva um programa que peça à pessoa usuária para fornecer dois números e exibir o número maior."
      ],
      "metadata": {
        "id": "xBZHqhVg80Fy"
      }
    },
    {
      "cell_type": "code",
      "source": [
        "number_1 = int(input('Digite um número: '))\n",
        "number_2 = int(input('Digite um outro número: '))\n",
        "\n",
        "if number_1 > number_2:\n",
        "  print(f'{number_1} é maior')\n",
        "else:\n",
        "  print(f'{number_2} é maior')"
      ],
      "metadata": {
        "id": "GJlGnzjc-xyF",
        "colab": {
          "base_uri": "https://localhost:8080/"
        },
        "outputId": "ca0b170b-5d78-464f-ed27-9b4d36d7ff71"
      },
      "execution_count": null,
      "outputs": [
        {
          "output_type": "stream",
          "name": "stdout",
          "text": [
            "Digite um número: 10\n",
            "Digite um outro número: 8\n",
            "10 é maior\n"
          ]
        }
      ]
    },
    {
      "cell_type": "markdown",
      "source": [
        "#### Questão 2\n",
        "Escreva um programa que solicite o percentual de crescimento de produção de uma empresa e informe se houve um crescimento (porcentagem positiva) ou decrescimento (porcentagem negativa)."
      ],
      "metadata": {
        "id": "H4sgN7dyHNJF"
      }
    },
    {
      "cell_type": "code",
      "source": [
        "porcentagem = float(input('Digite o percentual de crescimento de produção da empresa: '))\n",
        "\n",
        "if porcentagem > 0:\n",
        "  print('Houve um crescimento na produção!')\n",
        "else:\n",
        "  print('Houve um decréscimo!')"
      ],
      "metadata": {
        "id": "-2_Ry5XJ-yZW",
        "colab": {
          "base_uri": "https://localhost:8080/"
        },
        "outputId": "392544b2-503a-4ae6-e601-8f2ffeb0e5e5"
      },
      "execution_count": null,
      "outputs": [
        {
          "output_type": "stream",
          "name": "stdout",
          "text": [
            "Digite o percentual de crescimento de produção da empresa: -5.7\n",
            "Houve um decréscimo!\n"
          ]
        }
      ]
    },
    {
      "cell_type": "markdown",
      "source": [
        "#### Questão 3\n",
        "Escreva um programa que determine se uma letra fornecida pela pessoa usuária é uma vogal ou consoante."
      ],
      "metadata": {
        "id": "a_mzNOBDHNny"
      }
    },
    {
      "cell_type": "code",
      "source": [
        "char = input('Digite uma letra minúscula: ')\n",
        "\n",
        "if char == 'a' or char == 'e' or char == 'i' or char == 'o' or char == 'u':\n",
        "  print('Você escolheu uma vogal!')\n",
        "else:\n",
        "  print('Você escolheu uma consoante!')"
      ],
      "metadata": {
        "id": "NbgndVyg-zFJ",
        "colab": {
          "base_uri": "https://localhost:8080/"
        },
        "outputId": "b6165364-fc62-4e87-ca27-630c135813fc"
      },
      "execution_count": null,
      "outputs": [
        {
          "output_type": "stream",
          "name": "stdout",
          "text": [
            "Digite uma letra minúscula: p\n",
            "Você escolheu uma consoante!\n"
          ]
        }
      ]
    },
    {
      "cell_type": "markdown",
      "source": [
        "#### Questão 4\n",
        "Escreva um programa que leia valores médios de preços de um modelo de carro por 3 anos consecutivos e exiba o valor mais alto e mais baixo entre esses três anos."
      ],
      "metadata": {
        "id": "mofMRjSZHP99"
      }
    },
    {
      "cell_type": "code",
      "source": [
        "maior = 0\n",
        "menor = 0\n",
        "number = 0\n",
        "\n",
        "for i in range(3):\n",
        "  number = int(input('Digite um número: '))\n",
        "  if i == 0:\n",
        "    maior = number\n",
        "    menor = number\n",
        "  elif number >= maior:\n",
        "    maior = number\n",
        "  elif number < menor:\n",
        "    menor = number\n",
        "\n",
        "print(f'{maior} é o maior número e {menor} é o menor!')"
      ],
      "metadata": {
        "id": "TX--d3k9-02c",
        "colab": {
          "base_uri": "https://localhost:8080/"
        },
        "outputId": "d6129247-05f8-443d-9778-bbf5baeb50aa"
      },
      "execution_count": null,
      "outputs": [
        {
          "output_type": "stream",
          "name": "stdout",
          "text": [
            "Digite um número: 3\n",
            "Digite um número: 12\n",
            "Digite um número: 5\n",
            "12 é o maior número e 3 é o menor!\n"
          ]
        }
      ]
    },
    {
      "cell_type": "markdown",
      "source": [
        "#### Questão 5\n",
        "Escreva um programa que pergunte sobre o preço de três produtos e indique qual é o produto mais barato para comprar."
      ],
      "metadata": {
        "id": "jY5tIwd-HQzc"
      }
    },
    {
      "cell_type": "code",
      "source": [
        "number = 0\n",
        "menor = 0\n",
        "\n",
        "for i in range(3):\n",
        "  number = float(input(f'Digite o preço do produto {i+1}: '))\n",
        "  if i == 0:\n",
        "    menor = number\n",
        "  elif number <= menor:\n",
        "    menor = number\n",
        "\n",
        "print(f'O preço mais barato é {menor}.')"
      ],
      "metadata": {
        "id": "sYqNh9df-0gk",
        "colab": {
          "base_uri": "https://localhost:8080/"
        },
        "outputId": "35fb2ca5-9781-45be-a160-284bb3a227d2"
      },
      "execution_count": null,
      "outputs": [
        {
          "output_type": "stream",
          "name": "stdout",
          "text": [
            "Digite o preço do produto 1: 1.2\n",
            "Digite o preço do produto 2: 5\n",
            "Digite o preço do produto 3: 1.0\n",
            "O preço mais barato é 1.0.\n"
          ]
        }
      ]
    },
    {
      "cell_type": "markdown",
      "source": [
        "#### Questão 6\n",
        "Escreva um programa que leia três números e os exiba em ordem decrescente."
      ],
      "metadata": {
        "id": "1r6aVxtTHR4E"
      }
    },
    {
      "cell_type": "code",
      "source": [
        "maior = 0\n",
        "meio = 0\n",
        "menor = 0\n",
        "number = 0\n",
        "\n",
        "for i in range(3):\n",
        "  number = int(input('Digite um número: '))\n",
        "  if i == 0:\n",
        "    maior = number\n",
        "    meio = number\n",
        "    menor = number\n",
        "  elif number > maior:\n",
        "    maior = number\n",
        "  elif number < menor:\n",
        "    menor = number\n",
        "  elif number < maior and number > menor:\n",
        "    meio = number\n",
        "\n",
        "print(menor, meio, maior)"
      ],
      "metadata": {
        "id": "ydOCYUMO-0Hk",
        "colab": {
          "base_uri": "https://localhost:8080/"
        },
        "outputId": "b3d5264f-e811-4cbf-93fd-def08d1a5ac6"
      },
      "execution_count": null,
      "outputs": [
        {
          "output_type": "stream",
          "name": "stdout",
          "text": [
            "Digite um número: 5\n",
            "Digite um número: 8\n",
            "Digite um número: 2\n",
            "2 5 8\n"
          ]
        }
      ]
    },
    {
      "cell_type": "markdown",
      "source": [
        "#### Questão 7\n",
        "Escreva um programa que pergunte em qual turno a pessoa usuária estuda (\"manhã\", \"tarde\" ou \"noite\") e exiba a mensagem \"Bom Dia!\", \"Boa Tarde!\", \"Boa Noite!\", ou \"Valor Inválido!\", conforme o caso."
      ],
      "metadata": {
        "id": "inW3F-hAHS_X"
      }
    },
    {
      "cell_type": "code",
      "source": [
        "turno = input('Diga em qual turno estuda (manhã, tarde ou noite): ')\n",
        "\n",
        "if turno == 'manhã':\n",
        "  print('Bom Dia!')\n",
        "elif turno == 'tarde':\n",
        "  print('Boa Tarde!')\n",
        "elif turno == 'noite':\n",
        "  print('Boa Noite!')\n",
        "else:\n",
        "  print('Valor Inválido!')"
      ],
      "metadata": {
        "id": "-_q-Pcr_-zth",
        "colab": {
          "base_uri": "https://localhost:8080/"
        },
        "outputId": "648049fb-a47c-4ad9-cffd-ae80e54b30cc"
      },
      "execution_count": null,
      "outputs": [
        {
          "output_type": "stream",
          "name": "stdout",
          "text": [
            "Diga em qual turno estuda (manhã, tarde ou noite): madrugada\n",
            "Valor Inválido!\n"
          ]
        }
      ]
    },
    {
      "cell_type": "markdown",
      "source": [
        "#### Questão 8\n",
        "Escreva um programa que peça um número inteiro à pessoa usuária e determine se ele é par ou ímpar. Dica: Você pode utilizar o operador módulo `%`."
      ],
      "metadata": {
        "id": "NCCPF3QqHTw-"
      }
    },
    {
      "cell_type": "code",
      "source": [
        "number = int(input('Digite um número inteiro: '))\n",
        "\n",
        "if number % 2 == 0:\n",
        "  print(f'O número {number} é par!')\n",
        "else:\n",
        "  print(f'O número {number} é ímpar!')"
      ],
      "metadata": {
        "id": "OmZJt1nQ-3e6",
        "colab": {
          "base_uri": "https://localhost:8080/"
        },
        "outputId": "2417697b-61c9-4859-c3cb-3d49505395b9"
      },
      "execution_count": null,
      "outputs": [
        {
          "output_type": "stream",
          "name": "stdout",
          "text": [
            "Digite um número inteiro: 17\n",
            "O número 17 é ímpar!\n"
          ]
        }
      ]
    },
    {
      "cell_type": "markdown",
      "source": [
        "#### Questão 9\n",
        "Escreva um programa que peça um número à pessoa usuária e informe se ele é inteiro ou decimal."
      ],
      "metadata": {
        "id": "h93Ck1tQHUwE"
      }
    },
    {
      "cell_type": "code",
      "source": [
        "number = input('Digite um número qualquer: ')\n",
        "\n",
        "if len(number.split('.')) == 1:\n",
        "  print(f'O número {number} é inteiro!')\n",
        "else:\n",
        "  print(f'O número {number} é decimal!')"
      ],
      "metadata": {
        "id": "sLMlZcx8-20N",
        "colab": {
          "base_uri": "https://localhost:8080/"
        },
        "outputId": "b3b34698-d16c-4870-98ba-3d862fa9a04f"
      },
      "execution_count": null,
      "outputs": [
        {
          "output_type": "stream",
          "name": "stdout",
          "text": [
            "Digite um número qualquer: 10.5\n",
            "O número 10.5 é decimal!\n"
          ]
        }
      ]
    },
    {
      "cell_type": "markdown",
      "source": [
        "### Momento dos projetos"
      ],
      "metadata": {
        "id": "bKdXSK1SH_pF"
      }
    },
    {
      "cell_type": "markdown",
      "source": [
        "#### Questão 10\n",
        "Um programa deve ser escrito para ler dois números e, em seguida, perguntar à pessoa usuária qual operação ele deseja realizar. O resultado da operação deve incluir informações sobre o número - se é par ou ímpar, positivo ou negativo e inteiro ou decimal."
      ],
      "metadata": {
        "id": "WBlEyyzsHV86"
      }
    },
    {
      "cell_type": "code",
      "source": [
        "number_1 = float(input('Escolha um número qualquer: '))\n",
        "number_2 = float(input('Escolha outro número qualquer: '))\n",
        "result = 0\n",
        "decimal = False\n",
        "\n",
        "print()\n",
        "\n",
        "print('ADIÇÃO: +')\n",
        "print('SUBTRAÇÃO: -')\n",
        "print('DIVISÃO: /')\n",
        "print('MULTIPLICAÇÃO: *')\n",
        "opcao = input('Escolha a operação a ser realizada com estes dois números: ')\n",
        "\n",
        "print()\n",
        "\n",
        "if opcao == '+':\n",
        "  result = number_1 + number_2\n",
        "  print(f'O resultado da adição de {number_1} e {number_2} é {result}.')\n",
        "  if int(str(result).split('.')[1]) == 0:\n",
        "    print(f'O número {result} é inteiro!')\n",
        "  else:\n",
        "    print(f'O número {result} é decimal!')\n",
        "    decimal = True\n",
        "  if not decimal:\n",
        "    if result % 2 == 0:\n",
        "      print(f'O número {result} é par!')\n",
        "    else:\n",
        "      print(f'O número {result} é ímpar!')\n",
        "  if result >= 0:\n",
        "    print(f'O número {result} é positivo!')\n",
        "  else:\n",
        "    print(f'O número {result} é negativo!')\n",
        "elif opcao == '-':\n",
        "  result = number_1 - number_2\n",
        "  print(f'O resultado da subtração de {number_1} e {number_2} é {result}.')\n",
        "  if int(str(result).split('.')[1]) == 0:\n",
        "    print(f'O número {result} é inteiro!')\n",
        "  else:\n",
        "    print(f'O número {result} é decimal!')\n",
        "    decimal = True\n",
        "  if not decimal:\n",
        "    if result % 2 == 0:\n",
        "      print(f'O número {result} é par!')\n",
        "    else:\n",
        "      print(f'O número {result} é ímpar!')\n",
        "  if result >= 0:\n",
        "    print(f'O número {result} é positivo!')\n",
        "  else:\n",
        "    print(f'O número {result} é negativo!')\n",
        "elif opcao == '/':\n",
        "  result = number_1 / number_2\n",
        "  print(f'O resultado da divisão de {number_1} e {number_2} é {result}.')\n",
        "  if int(str(result).split('.')[1]) == 0:\n",
        "    print(f'O número {result} é inteiro!')\n",
        "  else:\n",
        "    print(f'O número {result} é decimal!')\n",
        "    decimal = True\n",
        "  if not decimal:\n",
        "    if result % 2 == 0:\n",
        "      print(f'O número {result} é par!')\n",
        "    else:\n",
        "      print(f'O número {result} é ímpar!')\n",
        "  if result >= 0:\n",
        "    print(f'O número {result} é positivo!')\n",
        "  else:\n",
        "    print(f'O número {result} é negativo!')\n",
        "elif opcao == '*':\n",
        "  result = number_1 * number_2\n",
        "  print(f'O resultado da multiplicação de {number_1} e {number_2} é {result}.')\n",
        "  if int(str(result).split('.')[1]) == 0:\n",
        "    print(f'O número {result} é inteiro!')\n",
        "  else:\n",
        "    print(f'O número {result} é decimal!')\n",
        "    decimal = True\n",
        "  if not decimal:\n",
        "    if result % 2 == 0:\n",
        "      print(f'O número {result} é par!')\n",
        "    else:\n",
        "      print(f'O número {result} é ímpar!')\n",
        "  if result >= 0:\n",
        "    print(f'O número {result} é positivo!')\n",
        "  else:\n",
        "    print(f'O número {result} é negativo!')"
      ],
      "metadata": {
        "id": "3jmahZ0f-2gq",
        "colab": {
          "base_uri": "https://localhost:8080/"
        },
        "outputId": "9e7c1395-c77c-4d01-968c-53f67bc5fe24"
      },
      "execution_count": null,
      "outputs": [
        {
          "output_type": "stream",
          "name": "stdout",
          "text": [
            "Escolha um número qualquer: 35\n",
            "Escolha outro número qualquer: 7\n",
            "\n",
            "ADIÇÃO: +\n",
            "SUBTRAÇÃO: -\n",
            "DIVISÃO: /\n",
            "MULTIPLICAÇÃO: *\n",
            "Escolha a operação a ser realizada com estes dois números: /\n",
            "\n",
            "O resultado da divisão de 35.0 e 7.0 é 5.0.\n",
            "O número 5.0 é inteiro!\n",
            "O número 5.0 é ímpar!\n",
            "O número 5.0 é positivo!\n"
          ]
        }
      ]
    },
    {
      "cell_type": "markdown",
      "source": [
        "#### Questão 11\n",
        "Escreva um programa que peça à pessoa usuária três números que representam os lados de um triângulo. O programa deve informar se os valores podem ser utilizados para formar um triângulo e, caso afirmativo, se ele é equilátero, isósceles ou escaleno. Tenha em mente algumas dicas:\n",
        "- Três lados formam um triângulo quando a soma de quaisquer dois lados for maior que o terceiro;\n",
        "- Triângulo Equilátero: três lados iguais;\n",
        "- Triângulo Isósceles: quaisquer dois lados iguais;\n",
        "- Triângulo Escaleno: três lados diferentes;\n"
      ],
      "metadata": {
        "id": "VdnlULxHHW19"
      }
    },
    {
      "cell_type": "code",
      "source": [
        "a, b, c = map(int, input('Digite os três lados do triângulo com um espaço entre eles: ').split())\n",
        "\n",
        "if a == b == c:\n",
        "  print('Triângulo Equilátero!')\n",
        "elif a == b or a == c or b == c:\n",
        "  print('Triângulo Isósceles!')\n",
        "else:\n",
        "  print('Triângulo Escaleno!')"
      ],
      "metadata": {
        "id": "0z73sqUO-2Pw",
        "colab": {
          "base_uri": "https://localhost:8080/"
        },
        "outputId": "999a7e6c-3847-4b54-922a-2e9defc8c865"
      },
      "execution_count": null,
      "outputs": [
        {
          "output_type": "stream",
          "name": "stdout",
          "text": [
            "Digite os três lados do triângulo com um espaço entre eles: 8 8 5\n",
            "Triângulo Isósceles!\n"
          ]
        }
      ]
    },
    {
      "cell_type": "markdown",
      "source": [
        "#### Questão 12\n",
        "Um estabelecimento está vendendo combustíveis com descontos variados. Para o etanol, se a quantidade comprada for até 15 litros, o desconto será de 2% por litro. Caso contrário, será de 4% por litro. Para o diesel, se a quantidade comprada for até 15 litros, o desconto será de 3% por litro. Caso contrário, será de 5% por litro. O preço do litro de diesel é R\\$ 2,00 e o preço do litro de etanol é R\\$ 1,70. Escreva um programa que leia a quantidade de litros vendidos e o tipo de combustível (E para etanol e D para diesel) e calcule o valor a ser pago pelo cliente. Tenha em mente algumas dicas:\n",
        "\n",
        "- O do valor do desconto será a multiplicação entre preço do litro, quantidade de litros e o valor do desconto.\n",
        "- O valor a ser pago por um cliente será o resultado da multiplicação do preço do litro pela quantidade de litros menos o valor de desconto resultante do cálculo.\n"
      ],
      "metadata": {
        "id": "_PpEpOugHXwZ"
      }
    },
    {
      "cell_type": "code",
      "source": [
        "total = 0\n",
        "desconto = 0\n",
        "print('ETANOL (E) OU DIESEL (D)')\n",
        "tipo = input('Escolha o tipo de combustível: ')\n",
        "litro = float(input('Informe a quantidade de litros vendidos: '))\n",
        "\n",
        "if tipo == 'E':\n",
        "  total = litro * 1.70\n",
        "  if litro <= 15:\n",
        "    desconto = 0.02 * 1.70 * litro\n",
        "  else:\n",
        "    desconto = 0.04 * 1.70 * litro\n",
        "elif tipo == 'D':\n",
        "  total = litro * 2.00\n",
        "  if litro <= 15:\n",
        "    desconto = 0.03 * 2.00 * litro\n",
        "  else:\n",
        "    desconto = 0.05 * 2.00 * litro\n",
        "\n",
        "pago = total - desconto\n",
        "\n",
        "if tipo == 'E':\n",
        "  print(f'O valor pago de etanol é {pago}.')\n",
        "else:\n",
        "  print(f'O valor pago de diesel é {pago}.')"
      ],
      "metadata": {
        "id": "9izoF-0O-1yD",
        "colab": {
          "base_uri": "https://localhost:8080/"
        },
        "outputId": "75f62042-982f-4442-f341-489d42451231"
      },
      "execution_count": null,
      "outputs": [
        {
          "output_type": "stream",
          "name": "stdout",
          "text": [
            "ETANOL (E) OU DIESEL (D)\n",
            "Escolha o tipo de combustível: D\n",
            "Informe a quantidade de litros vendidos: 87.5\n",
            "O valor pago de diesel é 166.25.\n"
          ]
        }
      ]
    },
    {
      "cell_type": "markdown",
      "source": [
        "#### Questão 13\n",
        "Em uma empresa de venda de imóveis você precisa criar um código que analise os dados de vendas anuais para ajudar a diretoria na tomada de decisão. O código precisa coletar os dados de quantidade de venda durante os anos de 2022 e 2023 e fazer um cálculo de variação percentual. A partir do valor da variação, deve ser enviada às seguintes sugestões:\n",
        "- Para variação acima de 20%: bonificação para o time de vendas.\n",
        "- Para variação entre 2% e 20%: pequena bonificação para time de vendas.\n",
        "- Para variação entre 2% e -10%: planejamento de políticas de incentivo às vendas.\n",
        "- Para bonificações abaixo de -10%: corte de gastos.\n"
      ],
      "metadata": {
        "id": "s_XS_D1WHY2R"
      }
    },
    {
      "cell_type": "code",
      "source": [
        "v_22, v_23 = map(int, input('Digite a quantidade de vendas dos anos de 2022 e 2023, separados por espaço: ').split())\n",
        "porcentagem = 0\n",
        "\n",
        "porcentagem = (v_23 / v_22) - 1\n",
        "if porcentagem > 0.2:\n",
        "  print('Bonificação para o time de vendas!')\n",
        "elif 0.2 >= porcentagem > 0.02:\n",
        "  print('Pequena bonificação para o time de vendas')\n",
        "elif 0.02 >= porcentagem > -0.1:\n",
        "  print('Necessário planejamento de políticas de incentivo às vendas!')\n",
        "else:\n",
        "  print('Necessidade de corte de gastos!')"
      ],
      "metadata": {
        "id": "avQrYlUg-w8f",
        "colab": {
          "base_uri": "https://localhost:8080/"
        },
        "outputId": "4af74219-a630-46b0-fde4-cf27d9ed0ac2"
      },
      "execution_count": null,
      "outputs": [
        {
          "output_type": "stream",
          "name": "stdout",
          "text": [
            "Digite a quantidade de vendas dos anos de 2022 e 2023, separados por espaço: 9 5\n",
            "Necessidade de corte de gastos!\n"
          ]
        }
      ]
    },
    {
      "cell_type": "markdown",
      "source": [
        "## Aula 4 - Estruturas de repetição"
      ],
      "metadata": {
        "id": "AuaWh4-d2Itt"
      }
    },
    {
      "cell_type": "markdown",
      "source": [
        "### Aquecendo na programação"
      ],
      "metadata": {
        "id": "6MSqU0sIJRdD"
      }
    },
    {
      "cell_type": "markdown",
      "source": [
        "#### Questão 1\n",
        "Escreva um programa que peça dois números inteiros e imprima todos os números inteiros entre eles."
      ],
      "metadata": {
        "id": "9eGGyCnAJRdQ"
      }
    },
    {
      "cell_type": "code",
      "source": [
        "num_1, num_2 = map(int, input('Escolha dois números inteiros, separados por espaço: ').split())\n",
        "\n",
        "for i in range(num_1, (num_2 + 1)):\n",
        "  print(i)"
      ],
      "metadata": {
        "id": "ID1oc1hxJRdQ",
        "colab": {
          "base_uri": "https://localhost:8080/"
        },
        "outputId": "1584cdf6-49cd-4224-d58b-71edab67e001"
      },
      "execution_count": null,
      "outputs": [
        {
          "output_type": "stream",
          "name": "stdout",
          "text": [
            "Escolha dois números inteiros, separados por espaço: 5 11\n",
            "5\n",
            "6\n",
            "7\n",
            "8\n",
            "9\n",
            "10\n",
            "11\n"
          ]
        }
      ]
    },
    {
      "cell_type": "markdown",
      "source": [
        "#### Questão 2\n",
        "Escreva um programa para calcular quantos dias levará para a colônia de uma bactéria A ultrapassar ou igualar a colônia de uma bactéria B, com base nas taxas de crescimento de 3% e 1,5% respectivamente. Considere que a colônia A inicia com 4 elementos e a colônia B com 10 elementos."
      ],
      "metadata": {
        "id": "mGonEHYCJRdR"
      }
    },
    {
      "cell_type": "code",
      "source": [
        "dia = 1\n",
        "A = 4\n",
        "B = 10\n",
        "\n",
        "while B >= A:\n",
        "  A = (A * 0.030) + A\n",
        "  B = (B * 0.015) + B\n",
        "  dia += 1\n",
        "\n",
        "print(f'Foram necessários {dia} dias para A ultrapassar B.')"
      ],
      "metadata": {
        "id": "wM6FJuoqJRdR",
        "colab": {
          "base_uri": "https://localhost:8080/"
        },
        "outputId": "8c37283a-cc0e-425c-ab08-5b86cd967be7"
      },
      "execution_count": null,
      "outputs": [
        {
          "output_type": "stream",
          "name": "stdout",
          "text": [
            "Foram necessários 64 dias para A ultrapassar B.\n"
          ]
        }
      ]
    },
    {
      "cell_type": "markdown",
      "source": [
        "#### Questão 3\n",
        "Para tratar uma quantidade de 15 dados de avaliações de pessoas usuárias de um serviço da empresa, precisamos verificar se as notas são válidas. Então, escreva um programa que vai receber a nota de 0 a 5 de todos os dados e verificar se é um valor válido. Caso seja inserido uma nota acima de 5 ou abaixo de 0, repita até que a pessoa usuária insira um valor válido."
      ],
      "metadata": {
        "id": "UiOZRlqoJRdR"
      }
    },
    {
      "cell_type": "code",
      "source": [
        "dados = 0\n",
        "for i in range(15):\n",
        "  dados = int(input('Insira uma nota entre 0 e 5: '))\n",
        "  while dados > 5 or dados < 0:\n",
        "    dados = int(input('Insira um valor válido: números entre 0 e 5: '))"
      ],
      "metadata": {
        "id": "3TUAhCxcJRdR",
        "colab": {
          "base_uri": "https://localhost:8080/"
        },
        "outputId": "66ca24c1-8948-47b0-d77d-b1cc96d72205"
      },
      "execution_count": null,
      "outputs": [
        {
          "name": "stdout",
          "output_type": "stream",
          "text": [
            "Insira uma nota entre 0 e 5: 6\n",
            "Insira um valor válido: números entre 0 e 5: 5\n",
            "Insira uma nota entre 0 e 5: 2\n",
            "Insira uma nota entre 0 e 5: 3\n",
            "Insira uma nota entre 0 e 5: -1\n",
            "Insira um valor válido: números entre 0 e 5: 5\n",
            "Insira uma nota entre 0 e 5: 8\n",
            "Insira um valor válido: números entre 0 e 5: 1\n",
            "Insira uma nota entre 0 e 5: 2\n",
            "Insira uma nota entre 0 e 5: 3\n",
            "Insira uma nota entre 0 e 5: 4\n",
            "Insira uma nota entre 0 e 5: 5\n",
            "Insira uma nota entre 0 e 5: 1\n",
            "Insira uma nota entre 0 e 5: 2\n",
            "Insira uma nota entre 0 e 5: 3\n",
            "Insira uma nota entre 0 e 5: 4\n",
            "Insira uma nota entre 0 e 5: 5\n",
            "Insira uma nota entre 0 e 5: 1\n"
          ]
        }
      ]
    },
    {
      "cell_type": "markdown",
      "source": [
        "#### Questão 4\n",
        "Desenvolva um programa que leia um conjunto indeterminado de temperaturas em Celsius e faça uma análise. Portanto, escreva um programa que leia temperaturas e informe a média delas. A leitura deve ser encerrada ao ser enviado o valor -273°C."
      ],
      "metadata": {
        "id": "ABv3KObGJRdR"
      }
    },
    {
      "cell_type": "code",
      "source": [
        "temp = 0\n",
        "cont = 0\n",
        "aux = 0\n",
        "\n",
        "while aux != -273:\n",
        "  aux = float(input('Insira a temperatura registrada: '))\n",
        "  if aux == -273:\n",
        "    break\n",
        "  temp += aux\n",
        "  cont += 1\n",
        "\n",
        "media = temp / cont\n",
        "\n",
        "print('A média das temperaturas registrada é %.2f' % media)"
      ],
      "metadata": {
        "id": "85tBBj5KJRdS",
        "colab": {
          "base_uri": "https://localhost:8080/"
        },
        "outputId": "afda4e91-0e87-4058-d24e-d24f999ffe77"
      },
      "execution_count": null,
      "outputs": [
        {
          "output_type": "stream",
          "name": "stdout",
          "text": [
            "Insira a temperatura registrada: 86\n",
            "Insira a temperatura registrada: 51\n",
            "Insira a temperatura registrada: 37.5\n",
            "Insira a temperatura registrada: 9\n",
            "Insira a temperatura registrada: -273\n",
            "A média das temperaturas registrada é 45.88\n"
          ]
        }
      ]
    },
    {
      "cell_type": "markdown",
      "source": [
        "#### Questão 5\n",
        "Escreva um programa que calcule o fatorial de um número inteiro fornecido pela pessoa usuária. O fatorial de um número inteiro é a multiplicação desse número por todos os seus antecessores até o número 1. Por exemplo, o fatorial de 5 é 5 x 4 x 3 x 2 x 1 = 120."
      ],
      "metadata": {
        "id": "IjkbAfGcJRdS"
      }
    },
    {
      "cell_type": "code",
      "source": [
        "num = int(input('Escolha um número inteiro maior que zero: '))\n",
        "aux = num\n",
        "\n",
        "for i in range(num, 1, -1):\n",
        "  aux = aux * (i - 1)\n",
        "\n",
        "print(f'O fatorial de {num} é {aux}.')"
      ],
      "metadata": {
        "id": "7RTH8o0HJRdS",
        "colab": {
          "base_uri": "https://localhost:8080/"
        },
        "outputId": "744ef470-8edb-4d64-e784-9eb3a5b16ad9"
      },
      "execution_count": null,
      "outputs": [
        {
          "output_type": "stream",
          "name": "stdout",
          "text": [
            "Escolha um número inteiro maior que zero: 5\n",
            "O fatorial de 5 é 120.\n"
          ]
        }
      ]
    },
    {
      "cell_type": "markdown",
      "source": [
        "### Momento dos projetos"
      ],
      "metadata": {
        "id": "oGNKuQjsJRdT"
      }
    },
    {
      "cell_type": "markdown",
      "source": [
        "#### Questão 6\n",
        "Escreva um programa que gere a tabuada de um número inteiro de 1 a 10, de acordo com a escolha da pessoa usuária. Como exemplo, para o número 2, a tabuada deve ser mostrada no seguinte formato:\n",
        "```\n",
        "Tabuada do 2:\n",
        "2 x 1 = 2\n",
        "2 x 2 = 4\n",
        "[...]\n",
        "2 x 10 = 20\n",
        "```"
      ],
      "metadata": {
        "id": "ODxaTUYmJRdS"
      }
    },
    {
      "cell_type": "code",
      "source": [
        "num = int(input('Escolha um número inteiro: '))\n",
        "\n",
        "print(f'Tabuada do {num}:')\n",
        "for i in range(1, 11):\n",
        "  print(f'{num} x {i} = {i * num}')"
      ],
      "metadata": {
        "id": "lkTlbxPIJRdS",
        "colab": {
          "base_uri": "https://localhost:8080/"
        },
        "outputId": "4a700d24-1f7f-47c0-da1a-317f992b511d"
      },
      "execution_count": null,
      "outputs": [
        {
          "output_type": "stream",
          "name": "stdout",
          "text": [
            "Escolha um número inteiro: 5\n",
            "Tabuada do 5:\n",
            "5 x 1 = 5\n",
            "5 x 2 = 10\n",
            "5 x 3 = 15\n",
            "5 x 4 = 20\n",
            "5 x 5 = 25\n",
            "5 x 6 = 30\n",
            "5 x 7 = 35\n",
            "5 x 8 = 40\n",
            "5 x 9 = 45\n",
            "5 x 10 = 50\n"
          ]
        }
      ]
    },
    {
      "cell_type": "markdown",
      "source": [
        "#### Questão 7\n",
        "Os números primos possuem várias aplicações dentro da Ciência de Dados, por exemplo, na criptografia e segurança. Um número primo é aquele que é divisível apenas por um e por ele mesmo. Faça um programa que peça um número inteiro e determine se ele é ou não um número primo."
      ],
      "metadata": {
        "id": "LeIbnt8VJRdS"
      }
    },
    {
      "cell_type": "code",
      "source": [
        "cont = 0\n",
        "\n",
        "num = int(input('Escolha um número inteiro: '))\n",
        "\n",
        "for i in range(num, 0, -1):\n",
        "  if num % i == 0:\n",
        "    cont +=1\n",
        "\n",
        "if cont == 2:\n",
        "  print(f'O número {num} é primo.')\n",
        "else:\n",
        "  print(f'O número {num} não é primo.')"
      ],
      "metadata": {
        "id": "2rcNU7twJRdS",
        "colab": {
          "base_uri": "https://localhost:8080/"
        },
        "outputId": "d6e39875-0ae2-4919-8d9f-f431969ddb79"
      },
      "execution_count": null,
      "outputs": [
        {
          "output_type": "stream",
          "name": "stdout",
          "text": [
            "Escolha um número inteiro: 89\n",
            "O número 89 é primo.\n"
          ]
        }
      ]
    },
    {
      "cell_type": "markdown",
      "source": [
        "#### Questão 8\n",
        "Vamos entender a distribuição de idades de pensionistas de uma empresa de previdência. Escreva um programa que leia as idades de uma quantidade não informada de clientes e mostre a distribuição em intervalos de [0-25], [26-50], [51-75] e [76-100]. Encerre a entrada de dados com um número negativo."
      ],
      "metadata": {
        "id": "QTwb6QaCJRdT"
      }
    },
    {
      "cell_type": "code",
      "source": [
        "idade = 0\n",
        "\n",
        "while idade != -1:\n",
        "  idade = int(input('Informe a idade do cliente (para encerrar digite -1): '))\n",
        "  if 0 <= idade <= 25:\n",
        "    print('[0-25]')\n",
        "  elif 26 <= idade <= 50:\n",
        "    print('[26-50]')\n",
        "  elif 51 <= idade <= 75:\n",
        "    print('[51-75]')\n",
        "  elif 76 <= idade <= 100:\n",
        "    print('[76-100]')"
      ],
      "metadata": {
        "id": "4IAhaDmYJRdT",
        "colab": {
          "base_uri": "https://localhost:8080/"
        },
        "outputId": "2b05e6bd-1bc0-48e1-8cac-23af8ccb6bd5"
      },
      "execution_count": null,
      "outputs": [
        {
          "name": "stdout",
          "output_type": "stream",
          "text": [
            "Informe a idade do cliente (para encerrar digite -1): 5\n",
            "[0-25]\n",
            "Informe a idade do cliente (para encerrar digite -1): 10\n",
            "[0-25]\n",
            "Informe a idade do cliente (para encerrar digite -1): 55\n",
            "[51-75]\n",
            "Informe a idade do cliente (para encerrar digite -1): 88\n",
            "[76-100]\n",
            "Informe a idade do cliente (para encerrar digite -1): 92\n",
            "[76-100]\n",
            "Informe a idade do cliente (para encerrar digite -1): 35\n",
            "[26-50]\n",
            "Informe a idade do cliente (para encerrar digite -1): -1\n"
          ]
        }
      ]
    },
    {
      "cell_type": "markdown",
      "source": [
        "#### Questão 9\n",
        "Em uma eleição para gerência em uma empresa com 20 funcionários, existem quatro candidatos. Escreva um programa que calcule o vencedor da eleição. A votação ocorreu da seguinte maneira:\n",
        "- Cada funcionário votou em um dos quatro candidatos (representados pelos números 1, 2, 3 e 4).\n",
        "- Também foram contabilizados os votos nulos (representado pelo número 5) e os votos em branco (representado pelo número 6).\n",
        "\n",
        "Ao final da votação, o programa deve exibir o total de votos para cada candidato, o número de votos nulos e o número de votos em branco. Além disso, deve calcular e exibir a porcentagem de votos nulos em relação ao total de votos e a porcentagem de votos em branco em relação ao total de votos."
      ],
      "metadata": {
        "id": "soJCQVwRJRdT"
      }
    },
    {
      "cell_type": "code",
      "source": [
        "v_1 = 0\n",
        "v_2 = 0\n",
        "v_3 = 0\n",
        "v_4 = 0\n",
        "v_5 = 0\n",
        "v_6 = 0\n",
        "\n",
        "for i in range(20):\n",
        "  voto = int(input('Digite o seu voto: '))\n",
        "  if voto == 1:\n",
        "    v_1 += 1\n",
        "  elif voto == 2:\n",
        "    v_2 += 1\n",
        "  elif voto == 3:\n",
        "    v_3 += 1\n",
        "  elif voto == 4:\n",
        "    v_4 += 1\n",
        "  elif voto == 5:\n",
        "    v_5 += 1\n",
        "  elif voto == 6:\n",
        "    v_6 += 1\n",
        "\n",
        "print(f'Votos para o candidato 1: {v_1}')\n",
        "print(f'Votos para o candidato 2: {v_2}')\n",
        "print(f'Votos para o candidato 3: {v_3}')\n",
        "print(f'Votos para o candidato 4: {v_4}')\n",
        "print(f'Votos nulos: {v_5}')\n",
        "print(f'Votos em branco: {v_6}')\n",
        "\n",
        "total = v_1 + v_2 + v_3 + v_4 + v_5 + v_6\n",
        "\n",
        "print(f'A porcentagem de fotos nulos é {(v_5 / total) * 100}.')\n",
        "print(f'A porcentagem de votos em branco é {(v_6 / total) * 100}.')"
      ],
      "metadata": {
        "id": "041EFrgG-4gR",
        "colab": {
          "base_uri": "https://localhost:8080/"
        },
        "outputId": "96842675-2bdd-41e9-d6bc-1272b72d655d"
      },
      "execution_count": null,
      "outputs": [
        {
          "output_type": "stream",
          "name": "stdout",
          "text": [
            "Digite o seu voto: 1\n",
            "Digite o seu voto: 2\n",
            "Digite o seu voto: 3\n",
            "Digite o seu voto: 4\n",
            "Digite o seu voto: 5\n",
            "Digite o seu voto: 6\n",
            "Digite o seu voto: 1\n",
            "Digite o seu voto: 2\n",
            "Digite o seu voto: 2\n",
            "Digite o seu voto: 3\n",
            "Digite o seu voto: 3\n",
            "Digite o seu voto: 3\n",
            "Digite o seu voto: 4\n",
            "Digite o seu voto: 4\n",
            "Digite o seu voto: 4\n",
            "Digite o seu voto: 4\n",
            "Digite o seu voto: 5\n",
            "Digite o seu voto: 6\n",
            "Digite o seu voto: 1\n",
            "Digite o seu voto: 2\n",
            "Votos para o candidato 1: 3\n",
            "Votos para o candidato 2: 4\n",
            "Votos para o candidato 3: 4\n",
            "Votos para o candidato 4: 5\n",
            "Votos nulos: 2\n",
            "Votos em branco: 2\n",
            "A porcentagem de fotos nulos é 10.0.\n",
            "A porcentagem de votos em branco é 10.0.\n"
          ]
        }
      ]
    },
    {
      "cell_type": "markdown",
      "source": [
        "## Aula 5 - Estruturas de dados"
      ],
      "metadata": {
        "id": "eijHQiNU2IZ7"
      }
    },
    {
      "cell_type": "markdown",
      "source": [
        "### Aquecendo na programação"
      ],
      "metadata": {
        "id": "92F0bKtBMgd7"
      }
    },
    {
      "cell_type": "markdown",
      "source": [
        "#### Questão 1\n",
        "Faça um programa que tenha a seguinte lista contendo os valores de gastos de uma empresa de papel `[2172.54, 3701.35, 3518.09, 3456.61, 3249.38, 2840.82, 3891.45, 3075.26, 2317.64, 3219.08]`. Com esses valores, faça um programa que calcule a média de gastos. Dica, use as funções built-in [`sum()`](https://docs.python.org/3/library/functions.html#sum) e [`len()`](https://docs.python.org/3/library/functions.html#len)."
      ],
      "metadata": {
        "id": "IypX2ANuMgeC"
      }
    },
    {
      "cell_type": "code",
      "source": [
        "gastos = [2172.54, 3701.35, 3518.09, 3456.61, 3249.38, 2840.82, 3891.45, 3075.26, 2317.64, 3219.08]\n",
        "\n",
        "media = sum(gastos) / len(gastos)\n",
        "\n",
        "print('A média dos gastos desta empresa é %.2f.' % media)"
      ],
      "metadata": {
        "id": "ge3LuFhLMgeD",
        "colab": {
          "base_uri": "https://localhost:8080/"
        },
        "outputId": "8e8926ac-be10-4af2-f280-4002a6229c17"
      },
      "execution_count": null,
      "outputs": [
        {
          "output_type": "stream",
          "name": "stdout",
          "text": [
            "A média dos gastos desta empresa é 3144.22.\n"
          ]
        }
      ]
    },
    {
      "cell_type": "markdown",
      "source": [
        "#### Questão 2\n",
        " Com os mesmos dados da questão anterior, defina quantas compras foram acima de 3000 reais e calcule a porcentagem quanto ao total de compras."
      ],
      "metadata": {
        "id": "xrOeLhQkMgeD"
      }
    },
    {
      "cell_type": "code",
      "source": [
        "acima = 0\n",
        "\n",
        "for i in gastos:\n",
        "  if i > 3000:\n",
        "    acima += 1\n",
        "\n",
        "porcentagem = (acima / len(gastos)) * 100\n",
        "\n",
        "print('A porcentagem de compras acima de 3000 é de %.2f%%.' % porcentagem)"
      ],
      "metadata": {
        "id": "Ygu5TMZyMgeD",
        "colab": {
          "base_uri": "https://localhost:8080/"
        },
        "outputId": "496f2e12-e613-4872-822a-b0d7ec1ae052"
      },
      "execution_count": null,
      "outputs": [
        {
          "output_type": "stream",
          "name": "stdout",
          "text": [
            "A porcentagem de compras acima de 3000 é de 70.00%.\n"
          ]
        }
      ]
    },
    {
      "cell_type": "markdown",
      "source": [
        "#### Questão 3\n",
        "Faça um código que colete em uma lista 5 números inteiros quaisquer e imprima a lista. Exemplo: `[1,4,7,2,4]`."
      ],
      "metadata": {
        "id": "JgCOrE_BMgeD"
      }
    },
    {
      "cell_type": "code",
      "source": [
        "lista = []\n",
        "\n",
        "for i in range(5):\n",
        "  lista.append(int(input('Digite um número para ser adicionada na lista: ')))\n",
        "\n",
        "print(f'A lista coletada é {lista}.')"
      ],
      "metadata": {
        "id": "vtM9O1hLMgeD",
        "colab": {
          "base_uri": "https://localhost:8080/"
        },
        "outputId": "8125d5c7-9f8b-4041-949b-c0c2dbe6db72"
      },
      "execution_count": null,
      "outputs": [
        {
          "output_type": "stream",
          "name": "stdout",
          "text": [
            "Digite um número para ser adicionada na lista: 1\n",
            "Digite um número para ser adicionada na lista: 2\n",
            "Digite um número para ser adicionada na lista: 3\n",
            "Digite um número para ser adicionada na lista: 4\n",
            "Digite um número para ser adicionada na lista: 5\n",
            "A lista coletada é [1, 2, 3, 4, 5].\n"
          ]
        }
      ]
    },
    {
      "cell_type": "markdown",
      "source": [
        "#### Questão 4\n",
        "Colete novamente 5 inteiros e imprima a lista em ordem inversa à enviada."
      ],
      "metadata": {
        "id": "p3bTp88HMgeD"
      }
    },
    {
      "cell_type": "code",
      "source": [
        "lista = []\n",
        "\n",
        "for i in range(5):\n",
        "  lista.append(int(input('Digite um número para ser adicionada na lista: ')))\n",
        "\n",
        "print(f'A lista coletada em ordem inversa é {lista[::-1]}.')"
      ],
      "metadata": {
        "id": "-CGwMIyHMgeD",
        "colab": {
          "base_uri": "https://localhost:8080/"
        },
        "outputId": "183c3ba0-9c72-45ae-c703-a34cfb31e417"
      },
      "execution_count": null,
      "outputs": [
        {
          "output_type": "stream",
          "name": "stdout",
          "text": [
            "Digite um número para ser adicionada na lista: 1\n",
            "Digite um número para ser adicionada na lista: 2\n",
            "Digite um número para ser adicionada na lista: 3\n",
            "Digite um número para ser adicionada na lista: 4\n",
            "Digite um número para ser adicionada na lista: 5\n",
            "A lista coletada em ordem inversa é [5, 4, 3, 2, 1].\n"
          ]
        }
      ]
    },
    {
      "cell_type": "markdown",
      "source": [
        "#### Questão 5\n",
        "Faça um programa que, ao inserir um número qualquer, criará uma lista contendo todos os números primos entre 1 e o número digitado."
      ],
      "metadata": {
        "id": "eIXd_z1lMgeD"
      }
    },
    {
      "cell_type": "code",
      "source": [
        "number = int(input('Insira uma número inteiro: '))\n",
        "lista = []\n",
        "cont = 0\n",
        "\n",
        "for i in range(1, (number + 1)):\n",
        "  for j in range(1, (i + 1)):\n",
        "    if i % j == 0:\n",
        "      cont += 1\n",
        "  if cont == 2:\n",
        "    lista.append(i)\n",
        "  cont = 0\n",
        "\n",
        "print('A lista de números primos é: ')\n",
        "print(lista)"
      ],
      "metadata": {
        "id": "rj_6GHstMgeE",
        "colab": {
          "base_uri": "https://localhost:8080/"
        },
        "outputId": "0c0d4e0c-9f53-4981-e75e-4ae84f7ed9b8"
      },
      "execution_count": null,
      "outputs": [
        {
          "output_type": "stream",
          "name": "stdout",
          "text": [
            "Insira uma número inteiro: 100\n",
            "A lista de númeors primos é: \n",
            "[2, 3, 5, 7, 11, 13, 17, 19, 23, 29, 31, 37, 41, 43, 47, 53, 59, 61, 67, 71, 73, 79, 83, 89, 97]\n"
          ]
        }
      ]
    },
    {
      "cell_type": "markdown",
      "source": [
        "#### Questão 6\n",
        "Escreva um programa que peça uma data informando o dia, mês e ano e determine se ela é uma data válida para uma análise."
      ],
      "metadata": {
        "id": "zrbz3ENlMgeE"
      }
    },
    {
      "cell_type": "code",
      "source": [
        "# Coletamos a data\n",
        "dia = int(input('Digite o dia: '))\n",
        "mes = int(input('Digite o mês: '))\n",
        "ano = int(input('Digite o ano: '))\n",
        "\n",
        "# Análise de fevereiro\n",
        "if mes == 2:\n",
        "  # Verificamos se é ou não um ano bissexto\n",
        "  if ano % 4 == 0 and (ano % 400 == 0 or ano % 100 != 0):\n",
        "    dias_fevereiro = 29\n",
        "  else:\n",
        "    dias_fevereiro = 28\n",
        "  # Verificamos se o dia colocado corresponde ao máximo de dias de fevereiro\n",
        "  if dia >= 1 and dia <= dias_fevereiro:\n",
        "    print('Data válida')\n",
        "  else:\n",
        "    print('Data inválida')\n",
        "# Verificamos meses terminados em 31 dias\n",
        "elif mes in [1, 3, 5, 7, 8, 10, 12]:\n",
        "  if dia >= 1 and dia <= 31:\n",
        "    print('Data válida')\n",
        "  else:\n",
        "    print('Data inválida')\n",
        "# Verificamos meses terminados em 30 dias\n",
        "elif mes in [4, 6, 9, 11]:\n",
        "  if dia >= 1 and dia <= 30:\n",
        "    print('Data válida')\n",
        "  else:\n",
        "    print('Data inválida')\n",
        "# Caso o mês não esteja entre 1 e 12\n",
        "else:\n",
        "  print('Data inválida')"
      ],
      "metadata": {
        "id": "0eYA8UjTMgeE",
        "colab": {
          "base_uri": "https://localhost:8080/"
        },
        "outputId": "98fd23fa-89d8-40b4-f0d8-b3230049de98"
      },
      "execution_count": null,
      "outputs": [
        {
          "output_type": "stream",
          "name": "stdout",
          "text": [
            "Digite o dia: 38\n",
            "Digite o mês: 15\n",
            "Digite o ano: 2023\n",
            "Data inválida\n"
          ]
        }
      ]
    },
    {
      "cell_type": "markdown",
      "source": [
        "### Momento dos projetos"
      ],
      "metadata": {
        "id": "ut_4VHdGMgeE"
      }
    },
    {
      "cell_type": "markdown",
      "source": [
        "#### Questão 7\n",
        "Para um estudo envolvendo o nível de multiplicação de bactérias em uma colônia, foi coletado o número de bactérias multiplicadas por dia, com base em um processo de duplicação diária e pode ser observado a seguir: `[1.2, 2.1, 3.3, 5.0, 7.8, 11.3, 16.6, 25.1, 37.8, 56.9]`. Tendo esses valores, faça um código que gere uma lista contendo o percentual de crescimento de bactérias por dia, comparando o número de bactérias em cada dia com o número de bactérias do dia anterior. Dica: para calcular o percentual de crescimento usamos a seguinte equação: `100 * (amostra_atual - amostra_passada) / (amostra_passada)`."
      ],
      "metadata": {
        "id": "G86Z0vD_MgeE"
      }
    },
    {
      "cell_type": "code",
      "source": [
        "dados = [1.2, 2.1, 3.3, 5.0, 7.8, 11.3, 16.6, 25.1, 37.8, 56.9]\n",
        "taxa = []\n",
        "\n",
        "for i in range(1, len(dados)):\n",
        "  inf = 100 * ((dados[i] - dados[i - 1]) / dados[i - 1])\n",
        "  taxa.append(round(inf, 2))\n",
        "\n",
        "print(f'A taxa em % de crescimento diário é {taxa}.')"
      ],
      "metadata": {
        "id": "PXNO_CFkMgeE",
        "colab": {
          "base_uri": "https://localhost:8080/"
        },
        "outputId": "746ac48a-7bd1-40f6-b7fa-4d0501f293d3"
      },
      "execution_count": null,
      "outputs": [
        {
          "output_type": "stream",
          "name": "stdout",
          "text": [
            "A taxa em % de crescimento diário é [75.0, 57.14, 51.52, 56.0, 44.87, 46.9, 51.2, 50.6, 50.53].\n"
          ]
        }
      ]
    },
    {
      "cell_type": "markdown",
      "source": [
        "#### Questão 8\n",
        "Para uma seleção de produtos alimentícios, precisamos separar o conjunto de IDs dados por números inteiros, sabendo que os produtos com ID par são doces e os com ID ímpar são amargos. Monte um código que colete 10 IDs. Depois, calcule e mostre a quantidade de produtos doces e amargos."
      ],
      "metadata": {
        "id": "p4nxogpnMgeE"
      }
    },
    {
      "cell_type": "code",
      "source": [
        "doces = []\n",
        "amargos = []\n",
        "\n",
        "for i in range(10):\n",
        "  id = int(input('Informe o ID do produto: '))\n",
        "  if id % 2 == 0:\n",
        "    doces.append(id)\n",
        "  else:\n",
        "    amargos.append(id)\n",
        "\n",
        "print(f'A quantidade de produtos doces é {len(doces)} e a quantidade de produtos amargos é {len(amargos)}.')"
      ],
      "metadata": {
        "id": "WqjO2SZkMgeE",
        "colab": {
          "base_uri": "https://localhost:8080/"
        },
        "outputId": "788f3841-fd5e-413a-e73c-4dac8d7c1f86"
      },
      "execution_count": null,
      "outputs": [
        {
          "output_type": "stream",
          "name": "stdout",
          "text": [
            "Informe o ID do produto: 24\n",
            "Informe o ID do produto: 13\n",
            "Informe o ID do produto: 15\n",
            "Informe o ID do produto: 89\n",
            "Informe o ID do produto: 84\n",
            "Informe o ID do produto: 64\n",
            "Informe o ID do produto: 12\n",
            "Informe o ID do produto: 25\n",
            "Informe o ID do produto: 5\n",
            "Informe o ID do produto: 1\n",
            "A quantidade de produtos doces é 4 e a quantidade de produtos amargos é 6.\n"
          ]
        }
      ]
    },
    {
      "cell_type": "markdown",
      "source": [
        "#### Questão 9\n",
        "Desenvolva um programa que informa a nota de um aluno de acordo com suas respostas. Ele deve pedir a resposta de um aluno para cada questão e é preciso verificar se a resposta foi igual ao gabarito. Cada questão vale um ponto e existem alternativas:  A, B, C ou D.\n",
        "```\n",
        "Gabarito da Prova:\n",
        "01 - D\n",
        "02 - A\n",
        "03 - C\n",
        "04 - B\n",
        "05 - A\n",
        "06 - D\n",
        "07 - C\n",
        "08 - C\n",
        "09 - A\n",
        "10 - B\n",
        "```"
      ],
      "metadata": {
        "id": "t5OrLxV6MgeE"
      }
    },
    {
      "cell_type": "code",
      "source": [
        "gabarito = {1: \"D\", 2: \"A\", 3: \"C\", 4: \"B\", 5: \"A\", 6: \"D\", 7: \"C\", 8: \"C\", 9: \"A\", 10: \"B\"}\n",
        "\n",
        "nota = 0\n",
        "\n",
        "for i in range(10):\n",
        "  alt = input(f\"Insira a resposta lançada para a questão nº {i + 1}: \")\n",
        "  if gabarito[i + 1] == alt:\n",
        "    nota += 1\n",
        "\n",
        "print(f'A nota do aluno nesta prova foi {nota}.')"
      ],
      "metadata": {
        "id": "ytIQDJrQMgeE",
        "colab": {
          "base_uri": "https://localhost:8080/"
        },
        "outputId": "503749c5-dd3b-4188-eb0b-a15cef258391"
      },
      "execution_count": null,
      "outputs": [
        {
          "output_type": "stream",
          "name": "stdout",
          "text": [
            "Insira a resposta lançada para a questão nº 1: D\n",
            "Insira a resposta lançada para a questão nº 2: A\n",
            "Insira a resposta lançada para a questão nº 3: C\n",
            "Insira a resposta lançada para a questão nº 4: B\n",
            "Insira a resposta lançada para a questão nº 5: A\n",
            "Insira a resposta lançada para a questão nº 6: D\n",
            "Insira a resposta lançada para a questão nº 7: C\n",
            "Insira a resposta lançada para a questão nº 8: C\n",
            "Insira a resposta lançada para a questão nº 9: A\n",
            "Insira a resposta lançada para a questão nº 10: A\n",
            "A nota do aluno nesta prova foi 9.\n"
          ]
        }
      ]
    },
    {
      "cell_type": "markdown",
      "source": [
        "#### Questão 10\n",
        "Um instituto de meteorologia deseja fazer um estudo de temperatura média de cada mês do ano. Para isso, você precisa fazer um código que colete e armazene essas temperaturas médias em uma lista. Depois, calcule a média anual das temperaturas e mostre todas as temperaturas acima da média anual, e em que mês elas ocorreram, mostrando os meses por extenso: Janeiro, Fevereiro, etc."
      ],
      "metadata": {
        "id": "aSBMzh-AMgeF"
      }
    },
    {
      "cell_type": "code",
      "source": [
        "anual = []\n",
        "\n",
        "for i in range(12):\n",
        "  anual.append(float(input(f'Digite a temperatura média do mês {i + 1}: ')))\n",
        "\n",
        "media = sum(anual) / len(anual)\n",
        "\n",
        "acima = {}\n",
        "\n",
        "for i in range(12):\n",
        "  if anual[i] > media:\n",
        "    if i == 0:\n",
        "      acima['Janeiro'] = anual[i]\n",
        "    elif i == 1:\n",
        "      acima['Fevereiro'] = anual[i]\n",
        "    elif i == 2:\n",
        "      acima['Março'] = anual[i]\n",
        "    elif i == 3:\n",
        "      acima['Abril'] = anual[i]\n",
        "    elif i == 4:\n",
        "      acima['Maio'] = anual[i]\n",
        "    elif i == 5:\n",
        "      acima['Junho'] = anual[i]\n",
        "    elif i == 6:\n",
        "      acima['Julho'] = anual[i]\n",
        "    elif i == 7:\n",
        "      acima['Agosto'] = anual[i]\n",
        "    elif i == 8:\n",
        "      acima['Setembro'] = anual[i]\n",
        "    elif i == 9:\n",
        "      acima['Outubro'] = anual[i]\n",
        "    elif i == 10:\n",
        "      acima['Novembro'] = anual[i]\n",
        "    else:\n",
        "      acima['Dezembro'] = anual[i]\n",
        "\n",
        "for chave, valor in acima.items():\n",
        "  print('%s: %.2f °C' % (chave, valor))"
      ],
      "metadata": {
        "id": "ftj04s2uMgeF",
        "colab": {
          "base_uri": "https://localhost:8080/"
        },
        "outputId": "027fe82b-9854-48a4-bfbb-72fe230ddf7c"
      },
      "execution_count": null,
      "outputs": [
        {
          "output_type": "stream",
          "name": "stdout",
          "text": [
            "Digite a temperatura média do mês 1: 30\n",
            "Digite a temperatura média do mês 2: 27\n",
            "Digite a temperatura média do mês 3: 35\n",
            "Digite a temperatura média do mês 4: 40\n",
            "Digite a temperatura média do mês 5: 19\n",
            "Digite a temperatura média do mês 6: 22\n",
            "Digite a temperatura média do mês 7: 19\n",
            "Digite a temperatura média do mês 8: 15\n",
            "Digite a temperatura média do mês 9: 26\n",
            "Digite a temperatura média do mês 10: 28.5\n",
            "Digite a temperatura média do mês 11: 40\n",
            "Digite a temperatura média do mês 12: 5.8\n",
            "Janeiro: 30.00 °C\n",
            "Fevereiro: 27.00 °C\n",
            "Março: 35.00 °C\n",
            "Abril: 40.00 °C\n",
            "Setembro: 26.00 °C\n",
            "Outubro: 28.50 °C\n",
            "Novembro: 40.00 °C\n"
          ]
        }
      ]
    },
    {
      "cell_type": "markdown",
      "source": [
        "#### Questão 11\n",
        "Uma empresa de e-commerce está interessada em analisar as vendas dos seus produtos. Os dados das vendas foram armazenados em um dicionário:\n",
        "```\n",
        "{'Produto A': 300, 'Produto B': 80, 'Produto C': 60,\n",
        " 'Produto D': 200, 'Produto E': 250, 'Produto F': 30}\n",
        "```\n",
        "Escreva um código que calcule o total de vendas e o produto mais vendido."
      ],
      "metadata": {
        "id": "0X8S6s4jMgeF"
      }
    },
    {
      "cell_type": "code",
      "source": [
        "vendas = {'Produto A': 300, 'Produto B': 80, 'Produto C': 60,\n",
        " 'Produto D': 200, 'Produto E': 250, 'Produto F': 30}\n",
        "\n",
        "total = 0\n",
        "mais_vendido = 0\n",
        "produto_mais = ''\n",
        "\n",
        "for produto, valor in vendas.items():\n",
        "  total += valor\n",
        "  if valor > mais_vendido:\n",
        "    mais_vendido = valor\n",
        "    produto_mais = produto\n",
        "\n",
        "print(f'O total de vendas é {total}.')\n",
        "print(f'O produto mais vendido é o {produto_mais}.')"
      ],
      "metadata": {
        "id": "Xa3DJLtFMgeF",
        "colab": {
          "base_uri": "https://localhost:8080/"
        },
        "outputId": "e3e9e917-47f6-40cb-f937-02ed8e0a4db2"
      },
      "execution_count": 2,
      "outputs": [
        {
          "output_type": "stream",
          "name": "stdout",
          "text": [
            "O total de vendas é 920.\n",
            "O produto mais vendido é o Produto A.\n"
          ]
        }
      ]
    },
    {
      "cell_type": "markdown",
      "source": [
        "#### Questão 12\n",
        "Uma pesquisa de mercado foi feita para decidir qual design de uma marca infantil mais agrada crianças. A pesquisa foi feita e o votos computados podem ser observados abaixo:\n",
        "```\n",
        "'''\n",
        "Tabela de votos da marca\n",
        "Design 1 - 1334 votos\n",
        "Design 2 - 982 votos\n",
        "Design 3 - 1751 votos\n",
        "Design 4 - 210 votos\n",
        "Design 5 - 1811 votos\n",
        "'''\n",
        "```\n",
        "Adapte os dados fornecidos a você para uma estrutura de dicionário e a partir dele, informe o design vencedor e a porcentagem de votos recebidos.\n"
      ],
      "metadata": {
        "id": "nrEwf_1ZMgeF"
      }
    },
    {
      "cell_type": "code",
      "source": [
        "pesquisa = {'Design 1': 1334,\n",
        "            'Design 2': 982,\n",
        "            'Design 3': 1751,\n",
        "            'Design 4': 210,\n",
        "            'Design 5': 1811}\n",
        "\n",
        "total = 0\n",
        "mais = 0\n",
        "design_mais = ''\n",
        "\n",
        "for tipo, valor in pesquisa.items():\n",
        "  total += valor\n",
        "  if valor > mais:\n",
        "    mais = valor\n",
        "    design_mais = tipo\n",
        "\n",
        "porcentagem = (mais / total) * 100\n",
        "\n",
        "print(f'O design vencedor foi o {design_mais}.')\n",
        "print(f'O design vencedor recebeu {round(porcentagem, 2)}% dos votos.')"
      ],
      "metadata": {
        "id": "MRPcGR-_MgeF",
        "colab": {
          "base_uri": "https://localhost:8080/"
        },
        "outputId": "3be5d9ff-9475-4562-94dc-299e571b143e"
      },
      "execution_count": 4,
      "outputs": [
        {
          "output_type": "stream",
          "name": "stdout",
          "text": [
            "O design vencedor foi o Design 5.\n",
            "O design vencedor recebeu 29.75% dos votos.\n"
          ]
        }
      ]
    },
    {
      "cell_type": "markdown",
      "source": [
        "#### Questão 13\n",
        "Os funcionários de um setor da empresa que você trabalha vão receber um abono correspondente a 10% do seu salário devido ao ótimo desempenho do time. O setor financeiro solicitou sua ajuda para a verificação das consequências financeiras que esse abono irá gerar nos recursos. Assim, foi encaminhada para você uma lista com os salários que receberão o abono: `[1172, 1644, 2617, 5130, 5532, 6341, 6650, 7238, 7685, 7782, 7903]`. O abono de cada funcionário não pode ser inferior a 200. Em código, transforme cada um dos salários em chaves de um dicionário e o abono de cada salário no elemento. Depois, informe o total de gastos com o abono, quantos funcionários receberam o abono mínimo e qual o maior valor de abono fornecido.\n"
      ],
      "metadata": {
        "id": "HRTFFzKIMgeF"
      }
    },
    {
      "cell_type": "code",
      "source": [
        "salario = [1172, 1644, 2617, 5130, 5532, 6341, 6650, 7238, 7685, 7782, 7903]\n",
        "\n",
        "abono = {}\n",
        "\n",
        "for valor in salario:\n",
        "  abono[valor] = round(valor * 0.1, 2)\n",
        "  if abono[valor] < 200:\n",
        "    abono[valor] = 200\n",
        "\n",
        "total = 0\n",
        "minimo = 0\n",
        "maior = 0\n",
        "\n",
        "for chave, item in abono.items():\n",
        "  total += item\n",
        "  if item == 200:\n",
        "    minimo += 1\n",
        "  if item > maior:\n",
        "    maior = item\n",
        "\n",
        "print(f'O valor total de gastos com abono foi {total}.')\n",
        "print(f'A quantidade de funcionários com abono mínimo é {minimo}.')\n",
        "print(f'O maior abono recebido foi no valor de {maior}.')"
      ],
      "metadata": {
        "id": "QsDSCua42bLB",
        "colab": {
          "base_uri": "https://localhost:8080/"
        },
        "outputId": "ef7dbfe3-be23-48a6-bc3e-906fbe11f5bd"
      },
      "execution_count": 7,
      "outputs": [
        {
          "output_type": "stream",
          "name": "stdout",
          "text": [
            "O valor total de gastos com abono foi 6087.8.\n",
            "A quantidade de funcionários com abono mínimo é 2.\n",
            "O maior abono recebido foi no valor de 790.3.\n"
          ]
        }
      ]
    },
    {
      "cell_type": "markdown",
      "source": [
        "#### Questão 14\n",
        "Uma equipe de cientistas de dados está estudando a diversidade biológica em uma floresta. A equipe fez a coleta de informações sobre o número de espécies de plantas e animais em cada área da floresta e armazenaram essas informações em um dicionário. Nele, a chave descreve a área dos dados e os valores nas listas correspondem às espécies de plantas e animais nas áreas, respectivamente.\n",
        "```\n",
        "{'Área Norte': [2819, 7236],\n",
        " 'Área Leste': [1440, 9492],\n",
        " 'Área Sul': [5969, 7496],\n",
        " 'Área Oeste': [14446, 49688],\n",
        " 'Área Centro': [22558, 45148]}\n",
        "```\n",
        "Escreva um código para calcular a média de espécies por área e identificar a área com a maior diversidade biológica. Dica: use as funções built-in [`sum()`](https://docs.python.org/3/library/functions.html#sum) e [`len()`](https://docs.python.org/3/library/functions.html#len).\n"
      ],
      "metadata": {
        "id": "6dEXZEwjMlWy"
      }
    },
    {
      "cell_type": "code",
      "source": [
        "diversidade = {'Área Norte': [2819, 7236],\n",
        "               'Área Leste': [1440, 9492],\n",
        "               'Área Sul': [5969, 7496],\n",
        "               'Área Oeste': [14446, 49688],\n",
        "               'Área Centro': [22558, 45148]}\n",
        "\n",
        "media_diversidade = {}\n",
        "maior = 0\n",
        "regiao = ''\n",
        "\n",
        "for chave, valor in diversidade.items():\n",
        "  media_diversidade[chave] = round(sum(valor) / len(valor), 2)\n",
        "  if media_diversidade[chave] > maior:\n",
        "    maior = media_diversidade[chave]\n",
        "    regiao = chave\n",
        "\n",
        "print(f'A região que apresenta a maior média de diversidade é {regiao}, com uma média de {maior} de espécies.')"
      ],
      "metadata": {
        "id": "eQnOUDfYMlWy",
        "colab": {
          "base_uri": "https://localhost:8080/"
        },
        "outputId": "1e937fdf-efc4-4924-c1b1-d2e1faff446d"
      },
      "execution_count": 8,
      "outputs": [
        {
          "output_type": "stream",
          "name": "stdout",
          "text": [
            "A região que apresenta a maior média de diversidade é Área Centro, com uma média de 33853.0 de espécies.\n"
          ]
        }
      ]
    },
    {
      "cell_type": "markdown",
      "source": [
        "#### Questão 15\n",
        "O setor de RH da sua empresa te pediu uma ajuda para analisar as idades dos funcionários de 4 setores da empresa. Para isso, ele te forneceu os seguintes dados:\n",
        "```\n",
        "{'Setor A': [22, 26, 30, 30, 35, 38, 40, 56, 57, 65],\n",
        " 'Setor B': [22, 24, 26, 33, 41, 49, 50, 54, 60, 64],\n",
        " 'Setor C': [23, 26, 26, 29, 34, 35, 36, 41, 52, 56],\n",
        " 'Setor D': [19, 20, 25, 27, 34, 39, 42, 44, 50, 65]}\n",
        "```\n",
        "Sabendo que cada setor tem 10 funcionários, construa um código que calcule a média de idade de cada setor, a idade média geral entre todos os setores e quantas pessoas estão acima da idade média geral.\n"
      ],
      "metadata": {
        "id": "r0RW2Sy_MlWy"
      }
    },
    {
      "cell_type": "code",
      "source": [
        "setores = {'Setor A': [22, 26, 30, 30, 35, 38, 40, 56, 57, 65],\n",
        "           'Setor B': [22, 24, 26, 33, 41, 49, 50, 54, 60, 64],\n",
        "           'Setor C': [23, 26, 26, 29, 34, 35, 36, 41, 52, 56],\n",
        "           'Setor D': [19, 20, 25, 27, 34, 39, 42, 44, 50, 65]}\n",
        "\n",
        "media_setores = {}\n",
        "\n",
        "for chave, valor in setores.items():\n",
        "  media_setores[chave] = round(sum(valor) / len(valor), 2)\n",
        "\n",
        "lista_media = []\n",
        "\n",
        "for valor in media_setores.values():\n",
        "  lista_media.append(valor)\n",
        "\n",
        "media_geral = sum(lista_media) / len(lista_media)\n",
        "\n",
        "qtd_pessoas = 0\n",
        "\n",
        "for valor in setores.values():\n",
        "  for dado in valor:\n",
        "    if dado > media_geral:\n",
        "      qtd_pessoas += 1\n",
        "\n",
        "print(f'Média de idade por setor:')\n",
        "print(media_setores)\n",
        "print(f'A média de idade geral entre todos os setores é {media_geral}.')\n",
        "print(f'A quantidade de pessoas que estão acima da média geral de idade é {qtd_pessoas}.')"
      ],
      "metadata": {
        "id": "wCiwyKP3MmTz",
        "colab": {
          "base_uri": "https://localhost:8080/"
        },
        "outputId": "ab141806-72c0-44ec-9461-f1df1e59f645"
      },
      "execution_count": 12,
      "outputs": [
        {
          "output_type": "stream",
          "name": "stdout",
          "text": [
            "Média de idade por setor:\n",
            "{'Setor A': 39.9, 'Setor B': 42.3, 'Setor C': 35.8, 'Setor D': 36.5}\n",
            "A média de idade geral entre todos os setores é 38.625.\n",
            "A quantidade de pessoas que estão acima da média geral de idade é 18.\n"
          ]
        }
      ]
    },
    {
      "cell_type": "code",
      "source": [],
      "metadata": {
        "id": "TNCM_NEjSzJj"
      },
      "execution_count": null,
      "outputs": []
    }
  ]
}